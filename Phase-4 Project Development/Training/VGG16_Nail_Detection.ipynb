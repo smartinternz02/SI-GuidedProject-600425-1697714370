{
  "cells": [
    {
      "cell_type": "markdown",
      "metadata": {
        "id": "03V7nDxYFApD"
      },
      "source": [
        "# Data Collection"
      ]
    },
    {
      "cell_type": "code",
      "execution_count": 1,
      "metadata": {
        "id": "1bSoD9hH9ssU"
      },
      "outputs": [],
      "source": [
        "! pip install -q kaggle"
      ]
    },
    {
      "cell_type": "code",
      "execution_count": 2,
      "metadata": {
        "id": "7aQnhc1U-C5J"
      },
      "outputs": [],
      "source": [
        "!mkdir ~/.kaggle"
      ]
    },
    {
      "cell_type": "code",
      "execution_count": 3,
      "metadata": {
        "id": "JyhwzcjC-FvD"
      },
      "outputs": [],
      "source": [
        "! cp kaggle.json ~/.kaggle"
      ]
    },
    {
      "cell_type": "code",
      "execution_count": 4,
      "metadata": {
        "colab": {
          "base_uri": "https://localhost:8080/"
        },
        "id": "LAL4j26I-Kwd",
        "outputId": "d5a61c3f-94c2-47f8-9882-c3647f2ba2bd"
      },
      "outputs": [
        {
          "name": "stdout",
          "output_type": "stream",
          "text": [
            "Warning: Your Kaggle API key is readable by other users on this system! To fix this, you can run 'chmod 600 /root/.kaggle/kaggle.json'\n",
            "Downloading dataset.zip to /content\n",
            " 98% 48.0M/49.0M [00:05<00:00, 16.7MB/s]\n",
            "100% 49.0M/49.0M [00:06<00:00, 8.00MB/s]\n"
          ]
        }
      ],
      "source": [
        "! kaggle datasets download -d harshpandey062003/dataset"
      ]
    },
    {
      "cell_type": "code",
      "execution_count": 5,
      "metadata": {
        "colab": {
          "base_uri": "https://localhost:8080/"
        },
        "id": "sdWwUALc-NGw",
        "outputId": "bade6429-2224-4237-b4ed-ec12ec9a7478"
      },
      "outputs": [
        {
          "name": "stdout",
          "output_type": "stream",
          "text": [
            "Archive:  /content/dataset.zip\n",
            "  inflating: Datasets/test/Darier_s disease/1.PNG  \n",
            "  inflating: Datasets/test/Darier_s disease/10.PNG  \n",
            "  inflating: Datasets/test/Darier_s disease/11.PNG  \n",
            "  inflating: Datasets/test/Darier_s disease/12.PNG  \n",
            "  inflating: Datasets/test/Darier_s disease/20.PNG  \n",
            "  inflating: Datasets/test/Darier_s disease/21.PNG  \n",
            "  inflating: Datasets/test/Darier_s disease/22.PNG  \n",
            "  inflating: Datasets/test/Darier_s disease/23.PNG  \n",
            "  inflating: Datasets/test/Darier_s disease/31.PNG  \n",
            "  inflating: Datasets/test/Darier_s disease/32.PNG  \n",
            "  inflating: Datasets/test/Darier_s disease/33.PNG  \n",
            "  inflating: Datasets/test/Darier_s disease/34.PNG  \n",
            "  inflating: Datasets/test/Darier_s disease/42.PNG  \n",
            "  inflating: Datasets/test/Darier_s disease/43.PNG  \n",
            "  inflating: Datasets/test/Darier_s disease/44.PNG  \n",
            "  inflating: Datasets/test/Darier_s disease/45.PNG  \n",
            "  inflating: Datasets/test/Darier_s disease/9.PNG  \n",
            "  inflating: Datasets/test/Muehrck-e_s lines/1.PNG  \n",
            "  inflating: Datasets/test/Muehrck-e_s lines/12.PNG  \n",
            "  inflating: Datasets/test/Muehrck-e_s lines/13.PNG  \n",
            "  inflating: Datasets/test/Muehrck-e_s lines/14.PNG  \n",
            "  inflating: Datasets/test/Muehrck-e_s lines/2.PNG  \n",
            "  inflating: Datasets/test/Muehrck-e_s lines/26.PNG  \n",
            "  inflating: Datasets/test/Muehrck-e_s lines/27.PNG  \n",
            "  inflating: Datasets/test/Muehrck-e_s lines/28.PNG  \n",
            "  inflating: Datasets/test/Muehrck-e_s lines/3.PNG  \n",
            "  inflating: Datasets/test/aloperia areata/1.PNG  \n",
            "  inflating: Datasets/test/aloperia areata/12.PNG  \n",
            "  inflating: Datasets/test/aloperia areata/13.PNG  \n",
            "  inflating: Datasets/test/aloperia areata/14.PNG  \n",
            "  inflating: Datasets/test/aloperia areata/2.PNG  \n",
            "  inflating: Datasets/test/aloperia areata/23.PNG  \n",
            "  inflating: Datasets/test/aloperia areata/24.PNG  \n",
            "  inflating: Datasets/test/aloperia areata/25.PNG  \n",
            "  inflating: Datasets/test/aloperia areata/3.PNG  \n",
            "  inflating: Datasets/test/aloperia areata/34.PNG  \n",
            "  inflating: Datasets/test/aloperia areata/35.PNG  \n",
            "  inflating: Datasets/test/aloperia areata/36.PNG  \n",
            "  inflating: Datasets/test/aloperia areata/45.PNG  \n",
            "  inflating: Datasets/test/aloperia areata/46.PNG  \n",
            "  inflating: Datasets/test/aloperia areata/47.PNG  \n",
            "  inflating: Datasets/test/beau_s lines/2.PNG  \n",
            "  inflating: Datasets/test/beau_s lines/24.PNG  \n",
            "  inflating: Datasets/test/beau_s lines/25.PNG  \n",
            "  inflating: Datasets/test/beau_s lines/3.PNG  \n",
            "  inflating: Datasets/test/beau_s lines/46.PNG  \n",
            "  inflating: Datasets/test/beau_s lines/47.PNG  \n",
            "  inflating: Datasets/test/beau_s lines/k.PNG  \n",
            "  inflating: Datasets/test/beau_s lines/n.PNG  \n",
            "  inflating: Datasets/test/bluish nail/1.PNG  \n",
            "  inflating: Datasets/test/bluish nail/12.PNG  \n",
            "  inflating: Datasets/test/bluish nail/13.PNG  \n",
            "  inflating: Datasets/test/bluish nail/14.PNG  \n",
            "  inflating: Datasets/test/bluish nail/23.PNG  \n",
            "  inflating: Datasets/test/bluish nail/24.PNG  \n",
            "  inflating: Datasets/test/bluish nail/25.PNG  \n",
            "  inflating: Datasets/test/bluish nail/34.PNG  \n",
            "  inflating: Datasets/test/bluish nail/35.PNG  \n",
            "  inflating: Datasets/test/bluish nail/36.PNG  \n",
            "  inflating: Datasets/test/bluish nail/46.PNG  \n",
            "  inflating: Datasets/test/bluish nail/47.PNG  \n",
            "  inflating: Datasets/test/bluish nail/48.PNG  \n",
            "  inflating: Datasets/test/clubbing/1.PNG  \n",
            "  inflating: Datasets/test/clubbing/10.PNG  \n",
            "  inflating: Datasets/test/clubbing/11.PNG  \n",
            "  inflating: Datasets/test/clubbing/2.PNG  \n",
            "  inflating: Datasets/test/clubbing/22.PNG  \n",
            "  inflating: Datasets/test/clubbing/23.PNG  \n",
            "  inflating: Datasets/test/clubbing/24.PNG  \n",
            "  inflating: Datasets/test/clubbing/25.PNG  \n",
            "  inflating: Datasets/test/clubbing/3.PNG  \n",
            "  inflating: Datasets/test/clubbing/32.PNG  \n",
            "  inflating: Datasets/test/clubbing/33.PNG  \n",
            "  inflating: Datasets/test/clubbing/34.PNG  \n",
            "  inflating: Datasets/test/eczema/10.PNG  \n",
            "  inflating: Datasets/test/eczema/11.PNG  \n",
            "  inflating: Datasets/test/eczema/20.PNG  \n",
            "  inflating: Datasets/test/eczema/21.PNG  \n",
            "  inflating: Datasets/test/eczema/22.PNG  \n",
            "  inflating: Datasets/test/eczema/31.PNG  \n",
            "  inflating: Datasets/test/eczema/32.PNG  \n",
            "  inflating: Datasets/test/eczema/33.PNG  \n",
            "  inflating: Datasets/test/eczema/42.PNG  \n",
            "  inflating: Datasets/test/eczema/43.PNG  \n",
            "  inflating: Datasets/test/eczema/44.PNG  \n",
            "  inflating: Datasets/test/eczema/9.PNG  \n",
            "  inflating: Datasets/test/half and half nailes (Lindsay_s nails)/1.PNG  \n",
            "  inflating: Datasets/test/half and half nailes (Lindsay_s nails)/11.PNG  \n",
            "  inflating: Datasets/test/half and half nailes (Lindsay_s nails)/12.PNG  \n",
            "  inflating: Datasets/test/half and half nailes (Lindsay_s nails)/13.PNG  \n",
            "  inflating: Datasets/test/half and half nailes (Lindsay_s nails)/14.PNG  \n",
            "  inflating: Datasets/test/half and half nailes (Lindsay_s nails)/2.PNG  \n",
            "  inflating: Datasets/test/half and half nailes (Lindsay_s nails)/22.PNG  \n",
            "  inflating: Datasets/test/half and half nailes (Lindsay_s nails)/23.PNG  \n",
            "  inflating: Datasets/test/half and half nailes (Lindsay_s nails)/24.PNG  \n",
            "  inflating: Datasets/test/half and half nailes (Lindsay_s nails)/25.PNG  \n",
            "  inflating: Datasets/test/half and half nailes (Lindsay_s nails)/3.PNG  \n",
            "  inflating: Datasets/test/half and half nailes (Lindsay_s nails)/33.PNG  \n",
            "  inflating: Datasets/test/half and half nailes (Lindsay_s nails)/34.PNG  \n",
            "  inflating: Datasets/test/half and half nailes (Lindsay_s nails)/35.PNG  \n",
            "  inflating: Datasets/test/half and half nailes (Lindsay_s nails)/36.PNG  \n",
            "  inflating: Datasets/test/koilonychia/1.PNG  \n",
            "  inflating: Datasets/test/koilonychia/12.PNG  \n",
            "  inflating: Datasets/test/koilonychia/13.PNG  \n",
            "  inflating: Datasets/test/koilonychia/2.PNG  \n",
            "  inflating: Datasets/test/koilonychia/23.PNG  \n",
            "  inflating: Datasets/test/koilonychia/24.PNG  \n",
            "  inflating: Datasets/test/koilonychia/34.PNG  \n",
            "  inflating: Datasets/test/koilonychia/35.PNG  \n",
            "  inflating: Datasets/test/leukonychia/19.PNG  \n",
            "  inflating: Datasets/test/leukonychia/2.PNG  \n",
            "  inflating: Datasets/test/leukonychia/21.PNG  \n",
            "  inflating: Datasets/test/leukonychia/31.PNG  \n",
            "  inflating: Datasets/test/leukonychia/32.PNG  \n",
            "  inflating: Datasets/test/leukonychia/4.PNG  \n",
            "  inflating: Datasets/test/onycholycis/10.PNG  \n",
            "  inflating: Datasets/test/onycholycis/11.PNG  \n",
            "  inflating: Datasets/test/onycholycis/20.PNG  \n",
            "  inflating: Datasets/test/onycholycis/21.PNG  \n",
            "  inflating: Datasets/test/onycholycis/22.PNG  \n",
            "  inflating: Datasets/test/onycholycis/31.PNG  \n",
            "  inflating: Datasets/test/onycholycis/32.PNG  \n",
            "  inflating: Datasets/test/onycholycis/33.PNG  \n",
            "  inflating: Datasets/test/onycholycis/42.PNG  \n",
            "  inflating: Datasets/test/onycholycis/43.PNG  \n",
            "  inflating: Datasets/test/onycholycis/44.PNG  \n",
            "  inflating: Datasets/test/onycholycis/9.PNG  \n",
            "  inflating: Datasets/test/pale nail/1.PNG  \n",
            "  inflating: Datasets/test/pale nail/12.PNG  \n",
            "  inflating: Datasets/test/pale nail/13.PNG  \n",
            "  inflating: Datasets/test/pale nail/2.PNG  \n",
            "  inflating: Datasets/test/pale nail/23.PNG  \n",
            "  inflating: Datasets/test/pale nail/24.PNG  \n",
            "  inflating: Datasets/test/pale nail/34.PNG  \n",
            "  inflating: Datasets/test/pale nail/35.PNG  \n",
            "  inflating: Datasets/test/red lunula/1.PNG  \n",
            "  inflating: Datasets/test/red lunula/10.PNG  \n",
            "  inflating: Datasets/test/red lunula/11.PNG  \n",
            "  inflating: Datasets/test/red lunula/12.PNG  \n",
            "  inflating: Datasets/test/red lunula/13.PNG  \n",
            "  inflating: Datasets/test/red lunula/14.PNG  \n",
            "  inflating: Datasets/test/red lunula/15.PNG  \n",
            "  inflating: Datasets/test/red lunula/2.PNG  \n",
            "  inflating: Datasets/test/red lunula/3.PNG  \n",
            "  inflating: Datasets/test/red lunula/4.PNG  \n",
            "  inflating: Datasets/test/red lunula/5.PNG  \n",
            "  inflating: Datasets/test/red lunula/6.PNG  \n",
            "  inflating: Datasets/test/red lunula/7.PNG  \n",
            "  inflating: Datasets/test/red lunula/8.PNG  \n",
            "  inflating: Datasets/test/red lunula/9.PNG  \n",
            "  inflating: Datasets/test/splinter hemmorrage/1.PNG  \n",
            "  inflating: Datasets/test/splinter hemmorrage/10.PNG  \n",
            "  inflating: Datasets/test/splinter hemmorrage/11.PNG  \n",
            "  inflating: Datasets/test/splinter hemmorrage/12.PNG  \n",
            "  inflating: Datasets/test/splinter hemmorrage/21.PNG  \n",
            "  inflating: Datasets/test/splinter hemmorrage/a.PNG  \n",
            "  inflating: Datasets/test/splinter hemmorrage/b.PNG  \n",
            "  inflating: Datasets/test/splinter hemmorrage/q.PNG  \n",
            "  inflating: Datasets/test/splinter hemmorrage/r.PNG  \n",
            "  inflating: Datasets/test/splinter hemmorrage/s.PNG  \n",
            "  inflating: Datasets/test/terry_s nail/1.PNG  \n",
            "  inflating: Datasets/test/terry_s nail/16.PNG  \n",
            "  inflating: Datasets/test/terry_s nail/17.PNG  \n",
            "  inflating: Datasets/test/terry_s nail/2.PNG  \n",
            "  inflating: Datasets/test/terry_s nail/23.PNG  \n",
            "  inflating: Datasets/test/terry_s nail/24.PNG  \n",
            "  inflating: Datasets/test/terry_s nail/25.PNG  \n",
            "  inflating: Datasets/test/terry_s nail/3.PNG  \n",
            "  inflating: Datasets/test/terry_s nail/4.PNG  \n",
            "  inflating: Datasets/test/white nail/16.PNG  \n",
            "  inflating: Datasets/test/white nail/17.PNG  \n",
            "  inflating: Datasets/test/white nail/18.PNG  \n",
            "  inflating: Datasets/test/white nail/2.PNG  \n",
            "  inflating: Datasets/test/white nail/3.PNG  \n",
            "  inflating: Datasets/test/white nail/6.PNG  \n",
            "  inflating: Datasets/test/yellow nails/1.PNG  \n",
            "  inflating: Datasets/test/yellow nails/2.PNG  \n",
            "  inflating: Datasets/test/yellow nails/24.PNG  \n",
            "  inflating: Datasets/test/yellow nails/25.PNG  \n",
            "  inflating: Datasets/test/yellow nails/26.PNG  \n",
            "  inflating: Datasets/test/yellow nails/3.PNG  \n",
            "  inflating: Datasets/test/yellow nails/4.PNG  \n",
            "  inflating: Datasets/test/yellow nails/5.PNG  \n",
            "  inflating: Datasets/train/Darier_s disease/1.PNG  \n",
            "  inflating: Datasets/train/Darier_s disease/10.PNG  \n",
            "  inflating: Datasets/train/Darier_s disease/11.PNG  \n",
            "  inflating: Datasets/train/Darier_s disease/12.PNG  \n",
            "  inflating: Datasets/train/Darier_s disease/13.PNG  \n",
            "  inflating: Datasets/train/Darier_s disease/14.PNG  \n",
            "  inflating: Datasets/train/Darier_s disease/15.PNG  \n",
            "  inflating: Datasets/train/Darier_s disease/16.PNG  \n",
            "  inflating: Datasets/train/Darier_s disease/17.PNG  \n",
            "  inflating: Datasets/train/Darier_s disease/18.PNG  \n",
            "  inflating: Datasets/train/Darier_s disease/19.PNG  \n",
            "  inflating: Datasets/train/Darier_s disease/2.PNG  \n",
            "  inflating: Datasets/train/Darier_s disease/20.PNG  \n",
            "  inflating: Datasets/train/Darier_s disease/21.PNG  \n",
            "  inflating: Datasets/train/Darier_s disease/22.PNG  \n",
            "  inflating: Datasets/train/Darier_s disease/23.PNG  \n",
            "  inflating: Datasets/train/Darier_s disease/24.PNG  \n",
            "  inflating: Datasets/train/Darier_s disease/25.PNG  \n",
            "  inflating: Datasets/train/Darier_s disease/26.PNG  \n",
            "  inflating: Datasets/train/Darier_s disease/27.PNG  \n",
            "  inflating: Datasets/train/Darier_s disease/28.PNG  \n",
            "  inflating: Datasets/train/Darier_s disease/29.PNG  \n",
            "  inflating: Datasets/train/Darier_s disease/3.PNG  \n",
            "  inflating: Datasets/train/Darier_s disease/30.PNG  \n",
            "  inflating: Datasets/train/Darier_s disease/31.PNG  \n",
            "  inflating: Datasets/train/Darier_s disease/32.PNG  \n",
            "  inflating: Datasets/train/Darier_s disease/33.PNG  \n",
            "  inflating: Datasets/train/Darier_s disease/34.PNG  \n",
            "  inflating: Datasets/train/Darier_s disease/35.PNG  \n",
            "  inflating: Datasets/train/Darier_s disease/36.PNG  \n",
            "  inflating: Datasets/train/Darier_s disease/37.PNG  \n",
            "  inflating: Datasets/train/Darier_s disease/38.PNG  \n",
            "  inflating: Datasets/train/Darier_s disease/39.PNG  \n",
            "  inflating: Datasets/train/Darier_s disease/4.PNG  \n",
            "  inflating: Datasets/train/Darier_s disease/40.PNG  \n",
            "  inflating: Datasets/train/Darier_s disease/41.PNG  \n",
            "  inflating: Datasets/train/Darier_s disease/42.PNG  \n",
            "  inflating: Datasets/train/Darier_s disease/43.PNG  \n",
            "  inflating: Datasets/train/Darier_s disease/44.PNG  \n",
            "  inflating: Datasets/train/Darier_s disease/45.PNG  \n",
            "  inflating: Datasets/train/Darier_s disease/46.PNG  \n",
            "  inflating: Datasets/train/Darier_s disease/47.PNG  \n",
            "  inflating: Datasets/train/Darier_s disease/5.PNG  \n",
            "  inflating: Datasets/train/Darier_s disease/6.PNG  \n",
            "  inflating: Datasets/train/Darier_s disease/7.PNG  \n",
            "  inflating: Datasets/train/Darier_s disease/8.PNG  \n",
            "  inflating: Datasets/train/Darier_s disease/9.PNG  \n",
            "  inflating: Datasets/train/Muehrck-e_s lines/1.PNG  \n",
            "  inflating: Datasets/train/Muehrck-e_s lines/10.PNG  \n",
            "  inflating: Datasets/train/Muehrck-e_s lines/11.PNG  \n",
            "  inflating: Datasets/train/Muehrck-e_s lines/12.PNG  \n",
            "  inflating: Datasets/train/Muehrck-e_s lines/13.PNG  \n",
            "  inflating: Datasets/train/Muehrck-e_s lines/14.PNG  \n",
            "  inflating: Datasets/train/Muehrck-e_s lines/15.PNG  \n",
            "  inflating: Datasets/train/Muehrck-e_s lines/16.PNG  \n",
            "  inflating: Datasets/train/Muehrck-e_s lines/17.PNG  \n",
            "  inflating: Datasets/train/Muehrck-e_s lines/18.PNG  \n",
            "  inflating: Datasets/train/Muehrck-e_s lines/19.PNG  \n",
            "  inflating: Datasets/train/Muehrck-e_s lines/2.PNG  \n",
            "  inflating: Datasets/train/Muehrck-e_s lines/20.PNG  \n",
            "  inflating: Datasets/train/Muehrck-e_s lines/21.PNG  \n",
            "  inflating: Datasets/train/Muehrck-e_s lines/22.PNG  \n",
            "  inflating: Datasets/train/Muehrck-e_s lines/26.PNG  \n",
            "  inflating: Datasets/train/Muehrck-e_s lines/27.PNG  \n",
            "  inflating: Datasets/train/Muehrck-e_s lines/28.PNG  \n",
            "  inflating: Datasets/train/Muehrck-e_s lines/29.PNG  \n",
            "  inflating: Datasets/train/Muehrck-e_s lines/3.PNG  \n",
            "  inflating: Datasets/train/Muehrck-e_s lines/36.PNG  \n",
            "  inflating: Datasets/train/Muehrck-e_s lines/37.PNG  \n",
            "  inflating: Datasets/train/Muehrck-e_s lines/38.PNG  \n",
            "  inflating: Datasets/train/Muehrck-e_s lines/39.PNG  \n",
            "  inflating: Datasets/train/Muehrck-e_s lines/4.PNG  \n",
            "  inflating: Datasets/train/Muehrck-e_s lines/40.PNG  \n",
            "  inflating: Datasets/train/Muehrck-e_s lines/41.PNG  \n",
            "  inflating: Datasets/train/Muehrck-e_s lines/42.PNG  \n",
            "  inflating: Datasets/train/Muehrck-e_s lines/5.PNG  \n",
            "  inflating: Datasets/train/Muehrck-e_s lines/6.PNG  \n",
            "  inflating: Datasets/train/Muehrck-e_s lines/7.PNG  \n",
            "  inflating: Datasets/train/Muehrck-e_s lines/8.PNG  \n",
            "  inflating: Datasets/train/Muehrck-e_s lines/9.PNG  \n",
            "  inflating: Datasets/train/aloperia areata/1.PNG  \n",
            "  inflating: Datasets/train/aloperia areata/10.PNG  \n",
            "  inflating: Datasets/train/aloperia areata/11.PNG  \n",
            "  inflating: Datasets/train/aloperia areata/12.PNG  \n",
            "  inflating: Datasets/train/aloperia areata/13.PNG  \n",
            "  inflating: Datasets/train/aloperia areata/14.PNG  \n",
            "  inflating: Datasets/train/aloperia areata/15.PNG  \n",
            "  inflating: Datasets/train/aloperia areata/16.PNG  \n",
            "  inflating: Datasets/train/aloperia areata/17.PNG  \n",
            "  inflating: Datasets/train/aloperia areata/18.PNG  \n",
            "  inflating: Datasets/train/aloperia areata/19.PNG  \n",
            "  inflating: Datasets/train/aloperia areata/2.PNG  \n",
            "  inflating: Datasets/train/aloperia areata/20.PNG  \n",
            "  inflating: Datasets/train/aloperia areata/21.PNG  \n",
            "  inflating: Datasets/train/aloperia areata/22.PNG  \n",
            "  inflating: Datasets/train/aloperia areata/23.PNG  \n",
            "  inflating: Datasets/train/aloperia areata/24.PNG  \n",
            "  inflating: Datasets/train/aloperia areata/25.PNG  \n",
            "  inflating: Datasets/train/aloperia areata/26.PNG  \n",
            "  inflating: Datasets/train/aloperia areata/27.PNG  \n",
            "  inflating: Datasets/train/aloperia areata/28.PNG  \n",
            "  inflating: Datasets/train/aloperia areata/29.PNG  \n",
            "  inflating: Datasets/train/aloperia areata/3.PNG  \n",
            "  inflating: Datasets/train/aloperia areata/30.PNG  \n",
            "  inflating: Datasets/train/aloperia areata/31.PNG  \n",
            "  inflating: Datasets/train/aloperia areata/32.PNG  \n",
            "  inflating: Datasets/train/aloperia areata/33.PNG  \n",
            "  inflating: Datasets/train/aloperia areata/34.PNG  \n",
            "  inflating: Datasets/train/aloperia areata/35.PNG  \n",
            "  inflating: Datasets/train/aloperia areata/36.PNG  \n",
            "  inflating: Datasets/train/aloperia areata/37.PNG  \n",
            "  inflating: Datasets/train/aloperia areata/38.PNG  \n",
            "  inflating: Datasets/train/aloperia areata/39.PNG  \n",
            "  inflating: Datasets/train/aloperia areata/4.PNG  \n",
            "  inflating: Datasets/train/aloperia areata/40.PNG  \n",
            "  inflating: Datasets/train/aloperia areata/41.PNG  \n",
            "  inflating: Datasets/train/aloperia areata/42.PNG  \n",
            "  inflating: Datasets/train/aloperia areata/43.PNG  \n",
            "  inflating: Datasets/train/aloperia areata/44.PNG  \n",
            "  inflating: Datasets/train/aloperia areata/45.PNG  \n",
            "  inflating: Datasets/train/aloperia areata/46.PNG  \n",
            "  inflating: Datasets/train/aloperia areata/47.PNG  \n",
            "  inflating: Datasets/train/aloperia areata/5.PNG  \n",
            "  inflating: Datasets/train/aloperia areata/6.PNG  \n",
            "  inflating: Datasets/train/aloperia areata/7.PNG  \n",
            "  inflating: Datasets/train/aloperia areata/8.PNG  \n",
            "  inflating: Datasets/train/aloperia areata/9.PNG  \n",
            "  inflating: Datasets/train/beau_s lines/10.PNG  \n",
            "  inflating: Datasets/train/beau_s lines/16.PNG  \n",
            "  inflating: Datasets/train/beau_s lines/17.PNG  \n",
            "  inflating: Datasets/train/beau_s lines/19.PNG  \n",
            "  inflating: Datasets/train/beau_s lines/2.PNG  \n",
            "  inflating: Datasets/train/beau_s lines/20.PNG  \n",
            "  inflating: Datasets/train/beau_s lines/21.PNG  \n",
            "  inflating: Datasets/train/beau_s lines/22.PNG  \n",
            "  inflating: Datasets/train/beau_s lines/23.PNG  \n",
            "  inflating: Datasets/train/beau_s lines/24.PNG  \n",
            "  inflating: Datasets/train/beau_s lines/25.PNG  \n",
            "  inflating: Datasets/train/beau_s lines/3.PNG  \n",
            "  inflating: Datasets/train/beau_s lines/30.PNG  \n",
            "  inflating: Datasets/train/beau_s lines/31.PNG  \n",
            "  inflating: Datasets/train/beau_s lines/32.PNG  \n",
            "  inflating: Datasets/train/beau_s lines/33.PNG  \n",
            "  inflating: Datasets/train/beau_s lines/34.PNG  \n",
            "  inflating: Datasets/train/beau_s lines/35.PNG  \n",
            "  inflating: Datasets/train/beau_s lines/43.PNG  \n",
            "  inflating: Datasets/train/beau_s lines/44.PNG  \n",
            "  inflating: Datasets/train/beau_s lines/45.PNG  \n",
            "  inflating: Datasets/train/beau_s lines/46.PNG  \n",
            "  inflating: Datasets/train/beau_s lines/47.PNG  \n",
            "  inflating: Datasets/train/beau_s lines/48.PNG  \n",
            "  inflating: Datasets/train/beau_s lines/8.PNG  \n",
            "  inflating: Datasets/train/beau_s lines/a.PNG  \n",
            "  inflating: Datasets/train/beau_s lines/b.PNG  \n",
            "  inflating: Datasets/train/beau_s lines/c.PNG  \n",
            "  inflating: Datasets/train/beau_s lines/e.PNG  \n",
            "  inflating: Datasets/train/beau_s lines/f.PNG  \n",
            "  inflating: Datasets/train/beau_s lines/g.PNG  \n",
            "  inflating: Datasets/train/beau_s lines/h.PNG  \n",
            "  inflating: Datasets/train/beau_s lines/i.PNG  \n",
            "  inflating: Datasets/train/beau_s lines/k.PNG  \n",
            "  inflating: Datasets/train/beau_s lines/n.PNG  \n",
            "  inflating: Datasets/train/beau_s lines/oi.PNG  \n",
            "  inflating: Datasets/train/beau_s lines/q.PNG  \n",
            "  inflating: Datasets/train/beau_s lines/r.PNG  \n",
            "  inflating: Datasets/train/beau_s lines/t.PNG  \n",
            "  inflating: Datasets/train/beau_s lines/v.PNG  \n",
            "  inflating: Datasets/train/beau_s lines/w.PNG  \n",
            "  inflating: Datasets/train/beau_s lines/y.PNG  \n",
            "  inflating: Datasets/train/bluish nail/1.PNG  \n",
            "  inflating: Datasets/train/bluish nail/10.PNG  \n",
            "  inflating: Datasets/train/bluish nail/11.PNG  \n",
            "  inflating: Datasets/train/bluish nail/12.PNG  \n",
            "  inflating: Datasets/train/bluish nail/13.PNG  \n",
            "  inflating: Datasets/train/bluish nail/14.PNG  \n",
            "  inflating: Datasets/train/bluish nail/15.PNG  \n",
            "  inflating: Datasets/train/bluish nail/16.PNG  \n",
            "  inflating: Datasets/train/bluish nail/17.PNG  \n",
            "  inflating: Datasets/train/bluish nail/18.PNG  \n",
            "  inflating: Datasets/train/bluish nail/19.PNG  \n",
            "  inflating: Datasets/train/bluish nail/2.PNG  \n",
            "  inflating: Datasets/train/bluish nail/20.PNG  \n",
            "  inflating: Datasets/train/bluish nail/21.PNG  \n",
            "  inflating: Datasets/train/bluish nail/22.PNG  \n",
            "  inflating: Datasets/train/bluish nail/23.PNG  \n",
            "  inflating: Datasets/train/bluish nail/24.PNG  \n",
            "  inflating: Datasets/train/bluish nail/25.PNG  \n",
            "  inflating: Datasets/train/bluish nail/26.PNG  \n",
            "  inflating: Datasets/train/bluish nail/27.PNG  \n",
            "  inflating: Datasets/train/bluish nail/28.PNG  \n",
            "  inflating: Datasets/train/bluish nail/29.PNG  \n",
            "  inflating: Datasets/train/bluish nail/30.PNG  \n",
            "  inflating: Datasets/train/bluish nail/31.PNG  \n",
            "  inflating: Datasets/train/bluish nail/32.PNG  \n",
            "  inflating: Datasets/train/bluish nail/33.PNG  \n",
            "  inflating: Datasets/train/bluish nail/34.PNG  \n",
            "  inflating: Datasets/train/bluish nail/35.PNG  \n",
            "  inflating: Datasets/train/bluish nail/36.PNG  \n",
            "  inflating: Datasets/train/bluish nail/37.PNG  \n",
            "  inflating: Datasets/train/bluish nail/38.PNG  \n",
            "  inflating: Datasets/train/bluish nail/39.PNG  \n",
            "  inflating: Datasets/train/bluish nail/4.PNG  \n",
            "  inflating: Datasets/train/bluish nail/40.PNG  \n",
            "  inflating: Datasets/train/bluish nail/41.PNG  \n",
            "  inflating: Datasets/train/bluish nail/42.PNG  \n",
            "  inflating: Datasets/train/bluish nail/43.PNG  \n",
            "  inflating: Datasets/train/bluish nail/44.PNG  \n",
            "  inflating: Datasets/train/bluish nail/46.PNG  \n",
            "  inflating: Datasets/train/bluish nail/47.PNG  \n",
            "  inflating: Datasets/train/bluish nail/48.PNG  \n",
            "  inflating: Datasets/train/bluish nail/49.PNG  \n",
            "  inflating: Datasets/train/bluish nail/5.PNG  \n",
            "  inflating: Datasets/train/bluish nail/50.PNG  \n",
            "  inflating: Datasets/train/bluish nail/51.PNG  \n",
            "  inflating: Datasets/train/bluish nail/52.PNG  \n",
            "  inflating: Datasets/train/bluish nail/53.PNG  \n",
            "  inflating: Datasets/train/bluish nail/6.PNG  \n",
            "  inflating: Datasets/train/bluish nail/8.PNG  \n",
            "  inflating: Datasets/train/bluish nail/9.PNG  \n",
            "  inflating: Datasets/train/clubbing/1.PNG  \n",
            "  inflating: Datasets/train/clubbing/10.PNG  \n",
            "  inflating: Datasets/train/clubbing/11.PNG  \n",
            "  inflating: Datasets/train/clubbing/12.PNG  \n",
            "  inflating: Datasets/train/clubbing/13.PNG  \n",
            "  inflating: Datasets/train/clubbing/14.PNG  \n",
            "  inflating: Datasets/train/clubbing/15.PNG  \n",
            "  inflating: Datasets/train/clubbing/16.PNG  \n",
            "  inflating: Datasets/train/clubbing/17.PNG  \n",
            "  inflating: Datasets/train/clubbing/18.PNG  \n",
            "  inflating: Datasets/train/clubbing/19.PNG  \n",
            "  inflating: Datasets/train/clubbing/2.PNG  \n",
            "  inflating: Datasets/train/clubbing/20.PNG  \n",
            "  inflating: Datasets/train/clubbing/21.PNG  \n",
            "  inflating: Datasets/train/clubbing/22.PNG  \n",
            "  inflating: Datasets/train/clubbing/23.PNG  \n",
            "  inflating: Datasets/train/clubbing/24.PNG  \n",
            "  inflating: Datasets/train/clubbing/25.PNG  \n",
            "  inflating: Datasets/train/clubbing/26.PNG  \n",
            "  inflating: Datasets/train/clubbing/27.PNG  \n",
            "  inflating: Datasets/train/clubbing/28.PNG  \n",
            "  inflating: Datasets/train/clubbing/29.PNG  \n",
            "  inflating: Datasets/train/clubbing/3.PNG  \n",
            "  inflating: Datasets/train/clubbing/30.PNG  \n",
            "  inflating: Datasets/train/clubbing/31.PNG  \n",
            "  inflating: Datasets/train/clubbing/32.PNG  \n",
            "  inflating: Datasets/train/clubbing/33.PNG  \n",
            "  inflating: Datasets/train/clubbing/34.PNG  \n",
            "  inflating: Datasets/train/clubbing/35.PNG  \n",
            "  inflating: Datasets/train/clubbing/36.PNG  \n",
            "  inflating: Datasets/train/clubbing/37.PNG  \n",
            "  inflating: Datasets/train/clubbing/38.PNG  \n",
            "  inflating: Datasets/train/clubbing/39.PNG  \n",
            "  inflating: Datasets/train/clubbing/4.PNG  \n",
            "  inflating: Datasets/train/clubbing/40.PNG  \n",
            "  inflating: Datasets/train/clubbing/5.PNG  \n",
            "  inflating: Datasets/train/clubbing/6.PNG  \n",
            "  inflating: Datasets/train/clubbing/7.PNG  \n",
            "  inflating: Datasets/train/clubbing/8.PNG  \n",
            "  inflating: Datasets/train/clubbing/9.PNG  \n",
            "  inflating: Datasets/train/eczema/1.PNG  \n",
            "  inflating: Datasets/train/eczema/10.PNG  \n",
            "  inflating: Datasets/train/eczema/11.PNG  \n",
            "  inflating: Datasets/train/eczema/12.PNG  \n",
            "  inflating: Datasets/train/eczema/13.PNG  \n",
            "  inflating: Datasets/train/eczema/14.PNG  \n",
            "  inflating: Datasets/train/eczema/15.PNG  \n",
            "  inflating: Datasets/train/eczema/16.PNG  \n",
            "  inflating: Datasets/train/eczema/17.PNG  \n",
            "  inflating: Datasets/train/eczema/18.PNG  \n",
            "  inflating: Datasets/train/eczema/19.PNG  \n",
            "  inflating: Datasets/train/eczema/2.PNG  \n",
            "  inflating: Datasets/train/eczema/20.PNG  \n",
            "  inflating: Datasets/train/eczema/21.PNG  \n",
            "  inflating: Datasets/train/eczema/22.PNG  \n",
            "  inflating: Datasets/train/eczema/23.PNG  \n",
            "  inflating: Datasets/train/eczema/24.PNG  \n",
            "  inflating: Datasets/train/eczema/25.PNG  \n",
            "  inflating: Datasets/train/eczema/26.PNG  \n",
            "  inflating: Datasets/train/eczema/27.PNG  \n",
            "  inflating: Datasets/train/eczema/28.PNG  \n",
            "  inflating: Datasets/train/eczema/29.PNG  \n",
            "  inflating: Datasets/train/eczema/3.PNG  \n",
            "  inflating: Datasets/train/eczema/30.PNG  \n",
            "  inflating: Datasets/train/eczema/31.PNG  \n",
            "  inflating: Datasets/train/eczema/32.PNG  \n",
            "  inflating: Datasets/train/eczema/33.PNG  \n",
            "  inflating: Datasets/train/eczema/34.PNG  \n",
            "  inflating: Datasets/train/eczema/35.PNG  \n",
            "  inflating: Datasets/train/eczema/36.PNG  \n",
            "  inflating: Datasets/train/eczema/37.PNG  \n",
            "  inflating: Datasets/train/eczema/38.PNG  \n",
            "  inflating: Datasets/train/eczema/39.PNG  \n",
            "  inflating: Datasets/train/eczema/4.PNG  \n",
            "  inflating: Datasets/train/eczema/40.PNG  \n",
            "  inflating: Datasets/train/eczema/41.PNG  \n",
            "  inflating: Datasets/train/eczema/42.PNG  \n",
            "  inflating: Datasets/train/eczema/43.PNG  \n",
            "  inflating: Datasets/train/eczema/44.PNG  \n",
            "  inflating: Datasets/train/eczema/45.PNG  \n",
            "  inflating: Datasets/train/eczema/5.PNG  \n",
            "  inflating: Datasets/train/eczema/6.PNG  \n",
            "  inflating: Datasets/train/eczema/7.PNG  \n",
            "  inflating: Datasets/train/eczema/8.PNG  \n",
            "  inflating: Datasets/train/eczema/9.PNG  \n",
            "  inflating: Datasets/train/half and half nailes (Lindsay_s nails)/1.PNG  \n",
            "  inflating: Datasets/train/half and half nailes (Lindsay_s nails)/10.PNG  \n",
            "  inflating: Datasets/train/half and half nailes (Lindsay_s nails)/11.PNG  \n",
            "  inflating: Datasets/train/half and half nailes (Lindsay_s nails)/12.PNG  \n",
            "  inflating: Datasets/train/half and half nailes (Lindsay_s nails)/13.PNG  \n",
            "  inflating: Datasets/train/half and half nailes (Lindsay_s nails)/14.PNG  \n",
            "  inflating: Datasets/train/half and half nailes (Lindsay_s nails)/15.PNG  \n",
            "  inflating: Datasets/train/half and half nailes (Lindsay_s nails)/16.PNG  \n",
            "  inflating: Datasets/train/half and half nailes (Lindsay_s nails)/17.PNG  \n",
            "  inflating: Datasets/train/half and half nailes (Lindsay_s nails)/18.PNG  \n",
            "  inflating: Datasets/train/half and half nailes (Lindsay_s nails)/19.PNG  \n",
            "  inflating: Datasets/train/half and half nailes (Lindsay_s nails)/2.PNG  \n",
            "  inflating: Datasets/train/half and half nailes (Lindsay_s nails)/20.PNG  \n",
            "  inflating: Datasets/train/half and half nailes (Lindsay_s nails)/21.PNG  \n",
            "  inflating: Datasets/train/half and half nailes (Lindsay_s nails)/22.PNG  \n",
            "  inflating: Datasets/train/half and half nailes (Lindsay_s nails)/23.PNG  \n",
            "  inflating: Datasets/train/half and half nailes (Lindsay_s nails)/24.PNG  \n",
            "  inflating: Datasets/train/half and half nailes (Lindsay_s nails)/25.PNG  \n",
            "  inflating: Datasets/train/half and half nailes (Lindsay_s nails)/26.PNG  \n",
            "  inflating: Datasets/train/half and half nailes (Lindsay_s nails)/27.PNG  \n",
            "  inflating: Datasets/train/half and half nailes (Lindsay_s nails)/28.PNG  \n",
            "  inflating: Datasets/train/half and half nailes (Lindsay_s nails)/29.PNG  \n",
            "  inflating: Datasets/train/half and half nailes (Lindsay_s nails)/3.PNG  \n",
            "  inflating: Datasets/train/half and half nailes (Lindsay_s nails)/30.PNG  \n",
            "  inflating: Datasets/train/half and half nailes (Lindsay_s nails)/31.PNG  \n",
            "  inflating: Datasets/train/half and half nailes (Lindsay_s nails)/32.PNG  \n",
            "  inflating: Datasets/train/half and half nailes (Lindsay_s nails)/33.PNG  \n",
            "  inflating: Datasets/train/half and half nailes (Lindsay_s nails)/34.PNG  \n",
            "  inflating: Datasets/train/half and half nailes (Lindsay_s nails)/35.PNG  \n",
            "  inflating: Datasets/train/half and half nailes (Lindsay_s nails)/36.PNG  \n",
            "  inflating: Datasets/train/half and half nailes (Lindsay_s nails)/37.PNG  \n",
            "  inflating: Datasets/train/half and half nailes (Lindsay_s nails)/38.PNG  \n",
            "  inflating: Datasets/train/half and half nailes (Lindsay_s nails)/4.PNG  \n",
            "  inflating: Datasets/train/half and half nailes (Lindsay_s nails)/5.PNG  \n",
            "  inflating: Datasets/train/half and half nailes (Lindsay_s nails)/6.PNG  \n",
            "  inflating: Datasets/train/half and half nailes (Lindsay_s nails)/7.PNG  \n",
            "  inflating: Datasets/train/half and half nailes (Lindsay_s nails)/8.PNG  \n",
            "  inflating: Datasets/train/half and half nailes (Lindsay_s nails)/9.PNG  \n",
            "  inflating: Datasets/train/koilonychia/1.PNG  \n",
            "  inflating: Datasets/train/koilonychia/10.PNG  \n",
            "  inflating: Datasets/train/koilonychia/11.PNG  \n",
            "  inflating: Datasets/train/koilonychia/12.PNG  \n",
            "  inflating: Datasets/train/koilonychia/13.PNG  \n",
            "  inflating: Datasets/train/koilonychia/14.PNG  \n",
            "  inflating: Datasets/train/koilonychia/15.PNG  \n",
            "  inflating: Datasets/train/koilonychia/16.PNG  \n",
            "  inflating: Datasets/train/koilonychia/17.PNG  \n",
            "  inflating: Datasets/train/koilonychia/18.PNG  \n",
            "  inflating: Datasets/train/koilonychia/19.PNG  \n",
            "  inflating: Datasets/train/koilonychia/2.PNG  \n",
            "  inflating: Datasets/train/koilonychia/20.PNG  \n",
            "  inflating: Datasets/train/koilonychia/21.PNG  \n",
            "  inflating: Datasets/train/koilonychia/22.PNG  \n",
            "  inflating: Datasets/train/koilonychia/23.PNG  \n",
            "  inflating: Datasets/train/koilonychia/24.PNG  \n",
            "  inflating: Datasets/train/koilonychia/25.PNG  \n",
            "  inflating: Datasets/train/koilonychia/26.PNG  \n",
            "  inflating: Datasets/train/koilonychia/27.PNG  \n",
            "  inflating: Datasets/train/koilonychia/28.PNG  \n",
            "  inflating: Datasets/train/koilonychia/29.PNG  \n",
            "  inflating: Datasets/train/koilonychia/3.PNG  \n",
            "  inflating: Datasets/train/koilonychia/30.PNG  \n",
            "  inflating: Datasets/train/koilonychia/31.PNG  \n",
            "  inflating: Datasets/train/koilonychia/32.PNG  \n",
            "  inflating: Datasets/train/koilonychia/33.PNG  \n",
            "  inflating: Datasets/train/koilonychia/34.PNG  \n",
            "  inflating: Datasets/train/koilonychia/35.PNG  \n",
            "  inflating: Datasets/train/koilonychia/36.PNG  \n",
            "  inflating: Datasets/train/koilonychia/37.PNG  \n",
            "  inflating: Datasets/train/koilonychia/38.PNG  \n",
            "  inflating: Datasets/train/koilonychia/4.PNG  \n",
            "  inflating: Datasets/train/koilonychia/5.PNG  \n",
            "  inflating: Datasets/train/koilonychia/6.PNG  \n",
            "  inflating: Datasets/train/koilonychia/7.PNG  \n",
            "  inflating: Datasets/train/koilonychia/8.PNG  \n",
            "  inflating: Datasets/train/koilonychia/9.PNG  \n",
            "  inflating: Datasets/train/leukonychia/10.PNG  \n",
            "  inflating: Datasets/train/leukonychia/12.PNG  \n",
            "  inflating: Datasets/train/leukonychia/13.PNG  \n",
            "  inflating: Datasets/train/leukonychia/14.PNG  \n",
            "  inflating: Datasets/train/leukonychia/16.PNG  \n",
            "  inflating: Datasets/train/leukonychia/18.PNG  \n",
            "  inflating: Datasets/train/leukonychia/19.PNG  \n",
            "  inflating: Datasets/train/leukonychia/2.PNG  \n",
            "  inflating: Datasets/train/leukonychia/21.PNG  \n",
            "  inflating: Datasets/train/leukonychia/22.PNG  \n",
            "  inflating: Datasets/train/leukonychia/23.PNG  \n",
            "  inflating: Datasets/train/leukonychia/24.PNG  \n",
            "  inflating: Datasets/train/leukonychia/25.PNG  \n",
            "  inflating: Datasets/train/leukonychia/26.PNG  \n",
            "  inflating: Datasets/train/leukonychia/27.PNG  \n",
            "  inflating: Datasets/train/leukonychia/28.PNG  \n",
            "  inflating: Datasets/train/leukonychia/29.PNG  \n",
            "  inflating: Datasets/train/leukonychia/30.PNG  \n",
            "  inflating: Datasets/train/leukonychia/31.PNG  \n",
            "  inflating: Datasets/train/leukonychia/32.PNG  \n",
            "  inflating: Datasets/train/leukonychia/33.PNG  \n",
            "  inflating: Datasets/train/leukonychia/34.PNG  \n",
            "  inflating: Datasets/train/leukonychia/35.PNG  \n",
            "  inflating: Datasets/train/leukonychia/36.PNG  \n",
            "  inflating: Datasets/train/leukonychia/37.PNG  \n",
            "  inflating: Datasets/train/leukonychia/38.PNG  \n",
            "  inflating: Datasets/train/leukonychia/39.PNG  \n",
            "  inflating: Datasets/train/leukonychia/4.PNG  \n",
            "  inflating: Datasets/train/leukonychia/5.PNG  \n",
            "  inflating: Datasets/train/leukonychia/6.PNG  \n",
            "  inflating: Datasets/train/leukonychia/9.PNG  \n",
            "  inflating: Datasets/train/onycholycis/1.PNG  \n",
            "  inflating: Datasets/train/onycholycis/10.PNG  \n",
            "  inflating: Datasets/train/onycholycis/11.PNG  \n",
            "  inflating: Datasets/train/onycholycis/12.PNG  \n",
            "  inflating: Datasets/train/onycholycis/13.PNG  \n",
            "  inflating: Datasets/train/onycholycis/14.PNG  \n",
            "  inflating: Datasets/train/onycholycis/15.PNG  \n",
            "  inflating: Datasets/train/onycholycis/16.PNG  \n",
            "  inflating: Datasets/train/onycholycis/17.PNG  \n",
            "  inflating: Datasets/train/onycholycis/18.PNG  \n",
            "  inflating: Datasets/train/onycholycis/19.PNG  \n",
            "  inflating: Datasets/train/onycholycis/2.PNG  \n",
            "  inflating: Datasets/train/onycholycis/20.PNG  \n",
            "  inflating: Datasets/train/onycholycis/21.PNG  \n",
            "  inflating: Datasets/train/onycholycis/22.PNG  \n",
            "  inflating: Datasets/train/onycholycis/23.PNG  \n",
            "  inflating: Datasets/train/onycholycis/24.PNG  \n",
            "  inflating: Datasets/train/onycholycis/25.PNG  \n",
            "  inflating: Datasets/train/onycholycis/26.PNG  \n",
            "  inflating: Datasets/train/onycholycis/27.PNG  \n",
            "  inflating: Datasets/train/onycholycis/28.PNG  \n",
            "  inflating: Datasets/train/onycholycis/29.PNG  \n",
            "  inflating: Datasets/train/onycholycis/3.PNG  \n",
            "  inflating: Datasets/train/onycholycis/30.PNG  \n",
            "  inflating: Datasets/train/onycholycis/31.PNG  \n",
            "  inflating: Datasets/train/onycholycis/32.PNG  \n",
            "  inflating: Datasets/train/onycholycis/33.PNG  \n",
            "  inflating: Datasets/train/onycholycis/34.PNG  \n",
            "  inflating: Datasets/train/onycholycis/35.PNG  \n",
            "  inflating: Datasets/train/onycholycis/36.PNG  \n",
            "  inflating: Datasets/train/onycholycis/37.PNG  \n",
            "  inflating: Datasets/train/onycholycis/38.PNG  \n",
            "  inflating: Datasets/train/onycholycis/39.PNG  \n",
            "  inflating: Datasets/train/onycholycis/4.PNG  \n",
            "  inflating: Datasets/train/onycholycis/40.PNG  \n",
            "  inflating: Datasets/train/onycholycis/41.PNG  \n",
            "  inflating: Datasets/train/onycholycis/42.PNG  \n",
            "  inflating: Datasets/train/onycholycis/43.PNG  \n",
            "  inflating: Datasets/train/onycholycis/44.PNG  \n",
            "  inflating: Datasets/train/onycholycis/45.PNG  \n",
            "  inflating: Datasets/train/onycholycis/46.PNG  \n",
            "  inflating: Datasets/train/onycholycis/47.PNG  \n",
            "  inflating: Datasets/train/onycholycis/48.PNG  \n",
            "  inflating: Datasets/train/onycholycis/49.PNG  \n",
            "  inflating: Datasets/train/onycholycis/5.PNG  \n",
            "  inflating: Datasets/train/onycholycis/50.PNG  \n",
            "  inflating: Datasets/train/onycholycis/6.PNG  \n",
            "  inflating: Datasets/train/onycholycis/7.PNG  \n",
            "  inflating: Datasets/train/onycholycis/8.PNG  \n",
            "  inflating: Datasets/train/onycholycis/9.PNG  \n",
            "  inflating: Datasets/train/pale nail/1.PNG  \n",
            "  inflating: Datasets/train/pale nail/10.PNG  \n",
            "  inflating: Datasets/train/pale nail/11.PNG  \n",
            "  inflating: Datasets/train/pale nail/12.PNG  \n",
            "  inflating: Datasets/train/pale nail/13.PNG  \n",
            "  inflating: Datasets/train/pale nail/14.PNG  \n",
            "  inflating: Datasets/train/pale nail/15.PNG  \n",
            "  inflating: Datasets/train/pale nail/16.PNG  \n",
            "  inflating: Datasets/train/pale nail/17.PNG  \n",
            "  inflating: Datasets/train/pale nail/18.PNG  \n",
            "  inflating: Datasets/train/pale nail/19.PNG  \n",
            "  inflating: Datasets/train/pale nail/2.PNG  \n",
            "  inflating: Datasets/train/pale nail/20.PNG  \n",
            "  inflating: Datasets/train/pale nail/21.PNG  \n",
            "  inflating: Datasets/train/pale nail/22.PNG  \n",
            "  inflating: Datasets/train/pale nail/23.PNG  \n",
            "  inflating: Datasets/train/pale nail/24.PNG  \n",
            "  inflating: Datasets/train/pale nail/25.PNG  \n",
            "  inflating: Datasets/train/pale nail/26.PNG  \n",
            "  inflating: Datasets/train/pale nail/27.PNG  \n",
            "  inflating: Datasets/train/pale nail/28.PNG  \n",
            "  inflating: Datasets/train/pale nail/29.PNG  \n",
            "  inflating: Datasets/train/pale nail/3.PNG  \n",
            "  inflating: Datasets/train/pale nail/30.PNG  \n",
            "  inflating: Datasets/train/pale nail/31.PNG  \n",
            "  inflating: Datasets/train/pale nail/32.PNG  \n",
            "  inflating: Datasets/train/pale nail/33.PNG  \n",
            "  inflating: Datasets/train/pale nail/34.PNG  \n",
            "  inflating: Datasets/train/pale nail/35.PNG  \n",
            "  inflating: Datasets/train/pale nail/4.PNG  \n",
            "  inflating: Datasets/train/pale nail/5.PNG  \n",
            "  inflating: Datasets/train/pale nail/6.PNG  \n",
            "  inflating: Datasets/train/pale nail/7.PNG  \n",
            "  inflating: Datasets/train/pale nail/8.PNG  \n",
            "  inflating: Datasets/train/pale nail/9.PNG  \n",
            "  inflating: Datasets/train/red lunula/1.PNG  \n",
            "  inflating: Datasets/train/red lunula/10.PNG  \n",
            "  inflating: Datasets/train/red lunula/11.PNG  \n",
            "  inflating: Datasets/train/red lunula/12.PNG  \n",
            "  inflating: Datasets/train/red lunula/13.PNG  \n",
            "  inflating: Datasets/train/red lunula/14.PNG  \n",
            "  inflating: Datasets/train/red lunula/15.PNG  \n",
            "  inflating: Datasets/train/red lunula/2.PNG  \n",
            "  inflating: Datasets/train/red lunula/3.PNG  \n",
            "  inflating: Datasets/train/red lunula/4.PNG  \n",
            "  inflating: Datasets/train/red lunula/5.PNG  \n",
            "  inflating: Datasets/train/red lunula/6.PNG  \n",
            "  inflating: Datasets/train/red lunula/7.PNG  \n",
            "  inflating: Datasets/train/red lunula/8.PNG  \n",
            "  inflating: Datasets/train/red lunula/9.PNG  \n",
            "  inflating: Datasets/train/splinter hemmorrage/1.PNG  \n",
            "  inflating: Datasets/train/splinter hemmorrage/10.PNG  \n",
            "  inflating: Datasets/train/splinter hemmorrage/11.PNG  \n",
            "  inflating: Datasets/train/splinter hemmorrage/12.PNG  \n",
            "  inflating: Datasets/train/splinter hemmorrage/13.PNG  \n",
            "  inflating: Datasets/train/splinter hemmorrage/14.PNG  \n",
            "  inflating: Datasets/train/splinter hemmorrage/15.PNG  \n",
            "  inflating: Datasets/train/splinter hemmorrage/16.PNG  \n",
            "  inflating: Datasets/train/splinter hemmorrage/17.PNG  \n",
            "  inflating: Datasets/train/splinter hemmorrage/18.PNG  \n",
            "  inflating: Datasets/train/splinter hemmorrage/19.PNG  \n",
            "  inflating: Datasets/train/splinter hemmorrage/2.PNG  \n",
            "  inflating: Datasets/train/splinter hemmorrage/20.PNG  \n",
            "  inflating: Datasets/train/splinter hemmorrage/21.PNG  \n",
            "  inflating: Datasets/train/splinter hemmorrage/22.PNG  \n",
            "  inflating: Datasets/train/splinter hemmorrage/23.PNG  \n",
            "  inflating: Datasets/train/splinter hemmorrage/24.PNG  \n",
            "  inflating: Datasets/train/splinter hemmorrage/25.PNG  \n",
            "  inflating: Datasets/train/splinter hemmorrage/26.PNG  \n",
            "  inflating: Datasets/train/splinter hemmorrage/27.PNG  \n",
            "  inflating: Datasets/train/splinter hemmorrage/28.PNG  \n",
            "  inflating: Datasets/train/splinter hemmorrage/29.PNG  \n",
            "  inflating: Datasets/train/splinter hemmorrage/3.PNG  \n",
            "  inflating: Datasets/train/splinter hemmorrage/30.PNG  \n",
            "  inflating: Datasets/train/splinter hemmorrage/31.PNG  \n",
            "  inflating: Datasets/train/splinter hemmorrage/32.PNG  \n",
            "  inflating: Datasets/train/splinter hemmorrage/33.PNG  \n",
            "  inflating: Datasets/train/splinter hemmorrage/34.PNG  \n",
            "  inflating: Datasets/train/splinter hemmorrage/35.PNG  \n",
            "  inflating: Datasets/train/splinter hemmorrage/36.PNG  \n",
            "  inflating: Datasets/train/splinter hemmorrage/37.PNG  \n",
            "  inflating: Datasets/train/splinter hemmorrage/38.PNG  \n",
            "  inflating: Datasets/train/splinter hemmorrage/39.PNG  \n",
            "  inflating: Datasets/train/splinter hemmorrage/4.PNG  \n",
            "  inflating: Datasets/train/splinter hemmorrage/40.PNG  \n",
            "  inflating: Datasets/train/splinter hemmorrage/41.PNG  \n",
            "  inflating: Datasets/train/splinter hemmorrage/42.PNG  \n",
            "  inflating: Datasets/train/splinter hemmorrage/43.PNG  \n",
            "  inflating: Datasets/train/splinter hemmorrage/5.PNG  \n",
            "  inflating: Datasets/train/splinter hemmorrage/6.PNG  \n",
            "  inflating: Datasets/train/splinter hemmorrage/7.PNG  \n",
            "  inflating: Datasets/train/splinter hemmorrage/8.PNG  \n",
            "  inflating: Datasets/train/splinter hemmorrage/9.PNG  \n",
            "  inflating: Datasets/train/splinter hemmorrage/a.PNG  \n",
            "  inflating: Datasets/train/splinter hemmorrage/b.PNG  \n",
            "  inflating: Datasets/train/splinter hemmorrage/c.PNG  \n",
            "  inflating: Datasets/train/splinter hemmorrage/d.PNG  \n",
            "  inflating: Datasets/train/splinter hemmorrage/e.PNG  \n",
            "  inflating: Datasets/train/splinter hemmorrage/g.PNG  \n",
            "  inflating: Datasets/train/splinter hemmorrage/h.PNG  \n",
            "  inflating: Datasets/train/splinter hemmorrage/j.PNG  \n",
            "  inflating: Datasets/train/splinter hemmorrage/k.PNG  \n",
            "  inflating: Datasets/train/splinter hemmorrage/l.PNG  \n",
            "  inflating: Datasets/train/splinter hemmorrage/q.PNG  \n",
            "  inflating: Datasets/train/splinter hemmorrage/r.PNG  \n",
            "  inflating: Datasets/train/splinter hemmorrage/s.PNG  \n",
            "  inflating: Datasets/train/splinter hemmorrage/t.PNG  \n",
            "  inflating: Datasets/train/splinter hemmorrage/u.PNG  \n",
            "  inflating: Datasets/train/splinter hemmorrage/v.PNG  \n",
            "  inflating: Datasets/train/splinter hemmorrage/w.PNG  \n",
            "  inflating: Datasets/train/splinter hemmorrage/x.PNG  \n",
            "  inflating: Datasets/train/splinter hemmorrage/y.PNG  \n",
            "  inflating: Datasets/train/terry_s nail/1.PNG  \n",
            "  inflating: Datasets/train/terry_s nail/10.PNG  \n",
            "  inflating: Datasets/train/terry_s nail/11.PNG  \n",
            "  inflating: Datasets/train/terry_s nail/12.PNG  \n",
            "  inflating: Datasets/train/terry_s nail/13.PNG  \n",
            "  inflating: Datasets/train/terry_s nail/14.PNG  \n",
            "  inflating: Datasets/train/terry_s nail/15.PNG  \n",
            "  inflating: Datasets/train/terry_s nail/16.PNG  \n",
            "  inflating: Datasets/train/terry_s nail/17.PNG  \n",
            "  inflating: Datasets/train/terry_s nail/18.PNG  \n",
            "  inflating: Datasets/train/terry_s nail/19.PNG  \n",
            "  inflating: Datasets/train/terry_s nail/2.PNG  \n",
            "  inflating: Datasets/train/terry_s nail/20.PNG  \n",
            "  inflating: Datasets/train/terry_s nail/21.PNG  \n",
            "  inflating: Datasets/train/terry_s nail/22.PNG  \n",
            "  inflating: Datasets/train/terry_s nail/23.PNG  \n",
            "  inflating: Datasets/train/terry_s nail/24.PNG  \n",
            "  inflating: Datasets/train/terry_s nail/25.PNG  \n",
            "  inflating: Datasets/train/terry_s nail/26.PNG  \n",
            "  inflating: Datasets/train/terry_s nail/27.PNG  \n",
            "  inflating: Datasets/train/terry_s nail/28.PNG  \n",
            "  inflating: Datasets/train/terry_s nail/29.PNG  \n",
            "  inflating: Datasets/train/terry_s nail/3.PNG  \n",
            "  inflating: Datasets/train/terry_s nail/30.PNG  \n",
            "  inflating: Datasets/train/terry_s nail/31.PNG  \n",
            "  inflating: Datasets/train/terry_s nail/32.PNG  \n",
            "  inflating: Datasets/train/terry_s nail/33.PNG  \n",
            "  inflating: Datasets/train/terry_s nail/34.PNG  \n",
            "  inflating: Datasets/train/terry_s nail/35.PNG  \n",
            "  inflating: Datasets/train/terry_s nail/36.PNG  \n",
            "  inflating: Datasets/train/terry_s nail/4.PNG  \n",
            "  inflating: Datasets/train/terry_s nail/5.PNG  \n",
            "  inflating: Datasets/train/terry_s nail/6.PNG  \n",
            "  inflating: Datasets/train/terry_s nail/7.PNG  \n",
            "  inflating: Datasets/train/terry_s nail/8.PNG  \n",
            "  inflating: Datasets/train/terry_s nail/9.PNG  \n",
            "  inflating: Datasets/train/white nail/10.PNG  \n",
            "  inflating: Datasets/train/white nail/11.PNG  \n",
            "  inflating: Datasets/train/white nail/12.PNG  \n",
            "  inflating: Datasets/train/white nail/13.PNG  \n",
            "  inflating: Datasets/train/white nail/14.PNG  \n",
            "  inflating: Datasets/train/white nail/15.PNG  \n",
            "  inflating: Datasets/train/white nail/16.PNG  \n",
            "  inflating: Datasets/train/white nail/17.PNG  \n",
            "  inflating: Datasets/train/white nail/18.PNG  \n",
            "  inflating: Datasets/train/white nail/19.PNG  \n",
            "  inflating: Datasets/train/white nail/2.PNG  \n",
            "  inflating: Datasets/train/white nail/20.PNG  \n",
            "  inflating: Datasets/train/white nail/21.PNG  \n",
            "  inflating: Datasets/train/white nail/22.PNG  \n",
            "  inflating: Datasets/train/white nail/23.PNG  \n",
            "  inflating: Datasets/train/white nail/3.PNG  \n",
            "  inflating: Datasets/train/white nail/6.PNG  \n",
            "  inflating: Datasets/train/white nail/8.PNG  \n",
            "  inflating: Datasets/train/white nail/9.PNG  \n",
            "  inflating: Datasets/train/yellow nails/1.PNG  \n",
            "  inflating: Datasets/train/yellow nails/10.PNG  \n",
            "  inflating: Datasets/train/yellow nails/11.PNG  \n",
            "  inflating: Datasets/train/yellow nails/12.PNG  \n",
            "  inflating: Datasets/train/yellow nails/13.PNG  \n",
            "  inflating: Datasets/train/yellow nails/14.PNG  \n",
            "  inflating: Datasets/train/yellow nails/15.PNG  \n",
            "  inflating: Datasets/train/yellow nails/16.PNG  \n",
            "  inflating: Datasets/train/yellow nails/17.PNG  \n",
            "  inflating: Datasets/train/yellow nails/18.PNG  \n",
            "  inflating: Datasets/train/yellow nails/19.PNG  \n",
            "  inflating: Datasets/train/yellow nails/2.PNG  \n",
            "  inflating: Datasets/train/yellow nails/20.PNG  \n",
            "  inflating: Datasets/train/yellow nails/21.PNG  \n",
            "  inflating: Datasets/train/yellow nails/22.PNG  \n",
            "  inflating: Datasets/train/yellow nails/23.PNG  \n",
            "  inflating: Datasets/train/yellow nails/24.PNG  \n",
            "  inflating: Datasets/train/yellow nails/25.PNG  \n",
            "  inflating: Datasets/train/yellow nails/26.PNG  \n",
            "  inflating: Datasets/train/yellow nails/27.PNG  \n",
            "  inflating: Datasets/train/yellow nails/3.PNG  \n",
            "  inflating: Datasets/train/yellow nails/4.PNG  \n",
            "  inflating: Datasets/train/yellow nails/5.PNG  \n",
            "  inflating: Datasets/train/yellow nails/6.PNG  \n",
            "  inflating: Datasets/train/yellow nails/7.PNG  \n",
            "  inflating: Datasets/train/yellow nails/8.PNG  \n",
            "  inflating: Datasets/train/yellow nails/9.PNG  \n"
          ]
        }
      ],
      "source": [
        "! unzip /content/dataset.zip"
      ]
    },
    {
      "cell_type": "markdown",
      "metadata": {
        "id": "pPt9P7PlFDu0"
      },
      "source": [
        "# Model Building"
      ]
    },
    {
      "cell_type": "markdown",
      "metadata": {
        "id": "busb-a0w_K9b"
      },
      "source": [
        "## Importing the Model Builing Libraries"
      ]
    },
    {
      "cell_type": "code",
      "execution_count": 1,
      "metadata": {
        "id": "HuFRQyT3-RJx"
      },
      "outputs": [],
      "source": [
        "from tensorflow.keras.layers import Dense, Flatten, Input\n",
        "from tensorflow.keras.models import Model\n",
        "from tensorflow.keras.preprocessing import image\n",
        "from tensorflow.keras.preprocessing.image import ImageDataGenerator, load_img\n",
        "from tensorflow.keras.applications.vgg16 import VGG16, preprocess_input\n",
        "from glob import glob\n",
        "import numpy as np\n",
        "import matplotlib.pyplot as plt"
      ]
    },
    {
      "cell_type": "markdown",
      "metadata": {
        "id": "ZNAOXhF3_Px8"
      },
      "source": [
        "## Loading the Model"
      ]
    },
    {
      "cell_type": "code",
      "execution_count": 7,
      "metadata": {
        "colab": {
          "base_uri": "https://localhost:8080/"
        },
        "id": "Go21yweq_JF1",
        "outputId": "75414e3c-3113-44d2-80f9-a6fa6de9f4f9"
      },
      "outputs": [
        {
          "name": "stdout",
          "output_type": "stream",
          "text": [
            "Downloading data from https://storage.googleapis.com/tensorflow/keras-applications/vgg16/vgg16_weights_tf_dim_ordering_tf_kernels_notop.h5\n",
            "58889256/58889256 [==============================] - 3s 0us/step\n"
          ]
        }
      ],
      "source": [
        "vgg = VGG16(include_top = False, weights='imagenet', input_shape=(224,224,3))"
      ]
    },
    {
      "cell_type": "markdown",
      "metadata": {
        "id": "IQnRB1UzCB4a"
      },
      "source": [
        "## Adding Flatten Layer"
      ]
    },
    {
      "cell_type": "code",
      "execution_count": 8,
      "metadata": {
        "id": "NnkMuFr__hUW"
      },
      "outputs": [],
      "source": [
        "for layer in vgg.layers:\n",
        "  layer.trainable = False"
      ]
    },
    {
      "cell_type": "code",
      "execution_count": 9,
      "metadata": {
        "id": "QRRufHfvAT8q"
      },
      "outputs": [],
      "source": [
        "x = Flatten()(vgg.output)"
      ]
    },
    {
      "cell_type": "markdown",
      "metadata": {
        "id": "xYwSxjItB-BH"
      },
      "source": [
        "## Adding Output Layer"
      ]
    },
    {
      "cell_type": "code",
      "execution_count": 10,
      "metadata": {
        "id": "vuNghkPtB8zN"
      },
      "outputs": [],
      "source": [
        "prediction = Dense(17, activation='softmax')(x)"
      ]
    },
    {
      "cell_type": "markdown",
      "metadata": {
        "id": "I1xhrooZCNyd"
      },
      "source": [
        "## Creating a Model Object"
      ]
    },
    {
      "cell_type": "code",
      "execution_count": 11,
      "metadata": {
        "id": "LGCQDOqhCJwa"
      },
      "outputs": [],
      "source": [
        "model = Model(inputs=vgg.input, outputs=prediction)"
      ]
    },
    {
      "cell_type": "code",
      "execution_count": 12,
      "metadata": {
        "colab": {
          "base_uri": "https://localhost:8080/"
        },
        "id": "vd_DEevuCVcQ",
        "outputId": "f1151a60-b242-4c36-8eb3-26e20547c6af"
      },
      "outputs": [
        {
          "name": "stdout",
          "output_type": "stream",
          "text": [
            "Model: \"model\"\n",
            "_________________________________________________________________\n",
            " Layer (type)                Output Shape              Param #   \n",
            "=================================================================\n",
            " input_1 (InputLayer)        [(None, 224, 224, 3)]     0         \n",
            "                                                                 \n",
            " block1_conv1 (Conv2D)       (None, 224, 224, 64)      1792      \n",
            "                                                                 \n",
            " block1_conv2 (Conv2D)       (None, 224, 224, 64)      36928     \n",
            "                                                                 \n",
            " block1_pool (MaxPooling2D)  (None, 112, 112, 64)      0         \n",
            "                                                                 \n",
            " block2_conv1 (Conv2D)       (None, 112, 112, 128)     73856     \n",
            "                                                                 \n",
            " block2_conv2 (Conv2D)       (None, 112, 112, 128)     147584    \n",
            "                                                                 \n",
            " block2_pool (MaxPooling2D)  (None, 56, 56, 128)       0         \n",
            "                                                                 \n",
            " block3_conv1 (Conv2D)       (None, 56, 56, 256)       295168    \n",
            "                                                                 \n",
            " block3_conv2 (Conv2D)       (None, 56, 56, 256)       590080    \n",
            "                                                                 \n",
            " block3_conv3 (Conv2D)       (None, 56, 56, 256)       590080    \n",
            "                                                                 \n",
            " block3_pool (MaxPooling2D)  (None, 28, 28, 256)       0         \n",
            "                                                                 \n",
            " block4_conv1 (Conv2D)       (None, 28, 28, 512)       1180160   \n",
            "                                                                 \n",
            " block4_conv2 (Conv2D)       (None, 28, 28, 512)       2359808   \n",
            "                                                                 \n",
            " block4_conv3 (Conv2D)       (None, 28, 28, 512)       2359808   \n",
            "                                                                 \n",
            " block4_pool (MaxPooling2D)  (None, 14, 14, 512)       0         \n",
            "                                                                 \n",
            " block5_conv1 (Conv2D)       (None, 14, 14, 512)       2359808   \n",
            "                                                                 \n",
            " block5_conv2 (Conv2D)       (None, 14, 14, 512)       2359808   \n",
            "                                                                 \n",
            " block5_conv3 (Conv2D)       (None, 14, 14, 512)       2359808   \n",
            "                                                                 \n",
            " block5_pool (MaxPooling2D)  (None, 7, 7, 512)         0         \n",
            "                                                                 \n",
            " flatten (Flatten)           (None, 25088)             0         \n",
            "                                                                 \n",
            " dense (Dense)               (None, 17)                426513    \n",
            "                                                                 \n",
            "=================================================================\n",
            "Total params: 15141201 (57.76 MB)\n",
            "Trainable params: 426513 (1.63 MB)\n",
            "Non-trainable params: 14714688 (56.13 MB)\n",
            "_________________________________________________________________\n"
          ]
        }
      ],
      "source": [
        "model.summary()"
      ]
    },
    {
      "cell_type": "markdown",
      "metadata": {
        "id": "02Mz88EiCeOD"
      },
      "source": [
        "## Configure the Learning Process"
      ]
    },
    {
      "cell_type": "code",
      "execution_count": 13,
      "metadata": {
        "id": "w45ckxOlCcYe"
      },
      "outputs": [],
      "source": [
        "model.compile(\n",
        "    loss = 'categorical_crossentropy',\n",
        "    optimizer = 'adam',\n",
        "    metrics = ['accuracy'], run_eagerly=True\n",
        ")"
      ]
    },
    {
      "cell_type": "markdown",
      "metadata": {
        "id": "qDs7_5xfCxOu"
      },
      "source": [
        "## Import the ImageDataGenerator library"
      ]
    },
    {
      "cell_type": "code",
      "execution_count": 14,
      "metadata": {
        "id": "oVQlcSS_Cv-5"
      },
      "outputs": [],
      "source": [
        "from tensorflow.keras.preprocessing.image import ImageDataGenerator"
      ]
    },
    {
      "cell_type": "markdown",
      "metadata": {
        "id": "fyuED0jNC_Pn"
      },
      "source": [
        "## Configure ImageDataGenerator class"
      ]
    },
    {
      "cell_type": "code",
      "execution_count": 15,
      "metadata": {
        "id": "rvgwDQJhC-2H"
      },
      "outputs": [],
      "source": [
        "train_datagen = ImageDataGenerator(rescale = 1./255,\n",
        "                                   shear_range = 0.2,\n",
        "                                   zoom_range = 0.2,\n",
        "                                   horizontal_flip=True)\n",
        "test_datagen = ImageDataGenerator(rescale = 1./255)"
      ]
    },
    {
      "cell_type": "markdown",
      "metadata": {
        "id": "mRCRyPZXDW2N"
      },
      "source": [
        "## Apply ImageDataGenerator functionality to Trainset and Testset"
      ]
    },
    {
      "cell_type": "code",
      "execution_count": 16,
      "metadata": {
        "colab": {
          "base_uri": "https://localhost:8080/"
        },
        "id": "4RYoyo8FDWrM",
        "outputId": "5276444b-a3fa-4203-be0b-c6df52fb938f"
      },
      "outputs": [
        {
          "name": "stdout",
          "output_type": "stream",
          "text": [
            "Found 655 images belonging to 17 classes.\n"
          ]
        }
      ],
      "source": [
        "training_set = train_datagen.flow_from_directory('/content/Datasets/train',\n",
        "                                                 target_size = (224,224),\n",
        "                                                 batch_size = 32,\n",
        "                                                 class_mode = 'categorical')\n"
      ]
    },
    {
      "cell_type": "code",
      "execution_count": 17,
      "metadata": {
        "colab": {
          "base_uri": "https://localhost:8080/"
        },
        "id": "felUd2piDUM5",
        "outputId": "553cc95a-c7c0-4d41-f0eb-a1ca8249248f"
      },
      "outputs": [
        {
          "name": "stdout",
          "output_type": "stream",
          "text": [
            "Found 183 images belonging to 17 classes.\n"
          ]
        }
      ],
      "source": [
        "test_set = test_datagen.flow_from_directory('/content/Datasets/test',\n",
        "                                                 target_size = (224,224),\n",
        "                                                 batch_size = 32,\n",
        "                                                 class_mode = 'categorical')"
      ]
    },
    {
      "cell_type": "code",
      "execution_count": 18,
      "metadata": {
        "colab": {
          "base_uri": "https://localhost:8080/"
        },
        "id": "D_FrDejOE1Jp",
        "outputId": "4c196b72-9443-4060-c8cd-41527781b196"
      },
      "outputs": [
        {
          "data": {
            "text/plain": [
              "{'Darier_s disease': 0,\n",
              " 'Muehrck-e_s lines': 1,\n",
              " 'aloperia areata': 2,\n",
              " 'beau_s lines': 3,\n",
              " 'bluish nail': 4,\n",
              " 'clubbing': 5,\n",
              " 'eczema': 6,\n",
              " 'half and half nailes (Lindsay_s nails)': 7,\n",
              " 'koilonychia': 8,\n",
              " 'leukonychia': 9,\n",
              " 'onycholycis': 10,\n",
              " 'pale nail': 11,\n",
              " 'red lunula': 12,\n",
              " 'splinter hemmorrage': 13,\n",
              " 'terry_s nail': 14,\n",
              " 'white nail': 15,\n",
              " 'yellow nails': 16}"
            ]
          },
          "execution_count": 18,
          "metadata": {},
          "output_type": "execute_result"
        }
      ],
      "source": [
        "training_set.class_indices"
      ]
    },
    {
      "cell_type": "markdown",
      "metadata": {
        "id": "WCR8BtzpE7J2"
      },
      "source": [
        "# Training"
      ]
    },
    {
      "cell_type": "markdown",
      "metadata": {
        "id": "q_TGefZ6FK4c"
      },
      "source": [
        "## Train the Model"
      ]
    },
    {
      "cell_type": "code",
      "execution_count": 19,
      "metadata": {
        "id": "imuDtHCME477"
      },
      "outputs": [],
      "source": [
        "import sys\n",
        "from tensorflow.keras.callbacks import ReduceLROnPlateau"
      ]
    },
    {
      "cell_type": "code",
      "execution_count": 20,
      "metadata": {
        "colab": {
          "base_uri": "https://localhost:8080/"
        },
        "id": "JlSe7lv1FNTD",
        "outputId": "abddac16-b715-4e6c-e46c-8e758752be56"
      },
      "outputs": [
        {
          "name": "stderr",
          "output_type": "stream",
          "text": [
            "<ipython-input-20-e7fd765b5177>:2: UserWarning: `Model.fit_generator` is deprecated and will be removed in a future version. Please use `Model.fit`, which supports generators.\n",
            "  r = model.fit_generator(\n"
          ]
        },
        {
          "name": "stdout",
          "output_type": "stream",
          "text": [
            "Epoch 1/100\n",
            "7/7 [==============================] - 28s 848ms/step - loss: 3.9666 - accuracy: 0.0714 - val_loss: 3.8111 - val_accuracy: 0.0625 - lr: 0.0010\n",
            "Epoch 2/100\n",
            "7/7 [==============================] - 6s 769ms/step - loss: 3.1837 - accuracy: 0.1027 - val_loss: 2.8603 - val_accuracy: 0.1719 - lr: 0.0010\n",
            "Epoch 3/100\n",
            "7/7 [==============================] - 6s 778ms/step - loss: 2.8482 - accuracy: 0.1875 - val_loss: 2.7375 - val_accuracy: 0.1719 - lr: 0.0010\n",
            "Epoch 4/100\n",
            "7/7 [==============================] - 7s 846ms/step - loss: 2.3793 - accuracy: 0.2545 - val_loss: 3.2356 - val_accuracy: 0.2188 - lr: 0.0010\n",
            "Epoch 5/100\n",
            "7/7 [==============================] - 6s 863ms/step - loss: 2.6150 - accuracy: 0.2366 - val_loss: 2.0855 - val_accuracy: 0.3438 - lr: 0.0010\n",
            "Epoch 6/100\n",
            "7/7 [==============================] - 6s 773ms/step - loss: 2.3840 - accuracy: 0.2946 - val_loss: 2.3319 - val_accuracy: 0.2812 - lr: 0.0010\n",
            "Epoch 7/100\n",
            "7/7 [==============================] - 6s 866ms/step - loss: 2.2695 - accuracy: 0.2723 - val_loss: 2.0086 - val_accuracy: 0.3750 - lr: 0.0010\n",
            "Epoch 8/100\n",
            "7/7 [==============================] - 6s 763ms/step - loss: 2.0837 - accuracy: 0.3884 - val_loss: 1.9091 - val_accuracy: 0.4688 - lr: 0.0010\n",
            "Epoch 9/100\n",
            "7/7 [==============================] - 6s 768ms/step - loss: 1.9043 - accuracy: 0.4732 - val_loss: 1.8053 - val_accuracy: 0.4219 - lr: 0.0010\n",
            "Epoch 10/100\n",
            "7/7 [==============================] - 6s 766ms/step - loss: 1.9167 - accuracy: 0.4464 - val_loss: 1.8321 - val_accuracy: 0.5000 - lr: 0.0010\n",
            "Epoch 11/100\n",
            "7/7 [==============================] - 6s 764ms/step - loss: 1.8007 - accuracy: 0.4598 - val_loss: 1.4853 - val_accuracy: 0.5781 - lr: 0.0010\n",
            "Epoch 12/100\n",
            "7/7 [==============================] - 6s 895ms/step - loss: 1.7828 - accuracy: 0.4732 - val_loss: 1.5503 - val_accuracy: 0.5938 - lr: 0.0010\n",
            "Epoch 13/100\n",
            "7/7 [==============================] - 6s 769ms/step - loss: 1.7087 - accuracy: 0.4732 - val_loss: 1.7572 - val_accuracy: 0.5156 - lr: 0.0010\n",
            "Epoch 14/100\n",
            "7/7 [==============================] - 6s 775ms/step - loss: 1.6453 - accuracy: 0.4732 - val_loss: 1.5153 - val_accuracy: 0.5625 - lr: 0.0010\n",
            "Epoch 15/100\n",
            "7/7 [==============================] - 6s 781ms/step - loss: 1.6727 - accuracy: 0.4911 - val_loss: 1.4552 - val_accuracy: 0.5938 - lr: 0.0010\n",
            "Epoch 16/100\n",
            "7/7 [==============================] - 12s 2s/step - loss: 1.6033 - accuracy: 0.5314 - val_loss: 1.1342 - val_accuracy: 0.6875 - lr: 0.0010\n",
            "Epoch 17/100\n",
            "7/7 [==============================] - 6s 877ms/step - loss: 1.4358 - accuracy: 0.5894 - val_loss: 1.1898 - val_accuracy: 0.6562 - lr: 0.0010\n",
            "Epoch 18/100\n",
            "7/7 [==============================] - 5s 696ms/step - loss: 1.4254 - accuracy: 0.5169 - val_loss: 1.2034 - val_accuracy: 0.6719 - lr: 0.0010\n",
            "Epoch 19/100\n",
            "7/7 [==============================] - 6s 845ms/step - loss: 1.2510 - accuracy: 0.6618 - val_loss: 1.5808 - val_accuracy: 0.5000 - lr: 0.0010\n",
            "Epoch 20/100\n",
            "7/7 [==============================] - 7s 934ms/step - loss: 1.3840 - accuracy: 0.5938 - val_loss: 1.4879 - val_accuracy: 0.6562 - lr: 0.0010\n",
            "Epoch 21/100\n",
            "7/7 [==============================] - 6s 772ms/step - loss: 1.5171 - accuracy: 0.5670 - val_loss: 1.4625 - val_accuracy: 0.4375 - lr: 0.0010\n",
            "Epoch 22/100\n",
            "7/7 [==============================] - 7s 913ms/step - loss: 1.4902 - accuracy: 0.5134 - val_loss: 1.5695 - val_accuracy: 0.5625 - lr: 0.0010\n",
            "Epoch 23/100\n",
            "7/7 [==============================] - 6s 790ms/step - loss: 1.3479 - accuracy: 0.6295 - val_loss: 1.1579 - val_accuracy: 0.6719 - lr: 0.0010\n",
            "Epoch 24/100\n",
            "7/7 [==============================] - 6s 934ms/step - loss: 1.2451 - accuracy: 0.6377 - val_loss: 1.1321 - val_accuracy: 0.7344 - lr: 0.0010\n",
            "Epoch 25/100\n",
            "7/7 [==============================] - 7s 925ms/step - loss: 1.2518 - accuracy: 0.6161 - val_loss: 1.1905 - val_accuracy: 0.6406 - lr: 0.0010\n",
            "Epoch 26/100\n",
            "7/7 [==============================] - 6s 779ms/step - loss: 1.1723 - accuracy: 0.6652 - val_loss: 1.1302 - val_accuracy: 0.6562 - lr: 0.0010\n",
            "Epoch 27/100\n",
            "7/7 [==============================] - 6s 821ms/step - loss: 1.2426 - accuracy: 0.6786 - val_loss: 1.3271 - val_accuracy: 0.6094 - lr: 0.0010\n",
            "Epoch 28/100\n",
            "7/7 [==============================] - 5s 725ms/step - loss: 1.0808 - accuracy: 0.6957 - val_loss: 0.9867 - val_accuracy: 0.6719 - lr: 0.0010\n",
            "Epoch 29/100\n",
            "7/7 [==============================] - 6s 786ms/step - loss: 1.0679 - accuracy: 0.7277 - val_loss: 1.0175 - val_accuracy: 0.7500 - lr: 0.0010\n",
            "Epoch 30/100\n",
            "7/7 [==============================] - 6s 789ms/step - loss: 1.0255 - accuracy: 0.7321 - val_loss: 0.8487 - val_accuracy: 0.7656 - lr: 0.0010\n",
            "Epoch 31/100\n",
            "7/7 [==============================] - 5s 727ms/step - loss: 0.9506 - accuracy: 0.7778 - val_loss: 0.8373 - val_accuracy: 0.7500 - lr: 0.0010\n",
            "Epoch 32/100\n",
            "7/7 [==============================] - 6s 808ms/step - loss: 0.9676 - accuracy: 0.7411 - val_loss: 0.9542 - val_accuracy: 0.7188 - lr: 0.0010\n",
            "Epoch 33/100\n",
            "7/7 [==============================] - 6s 788ms/step - loss: 1.0309 - accuracy: 0.7545 - val_loss: 0.9157 - val_accuracy: 0.8125 - lr: 0.0010\n",
            "Epoch 34/100\n",
            "7/7 [==============================] - 6s 776ms/step - loss: 0.8967 - accuracy: 0.7366 - val_loss: 0.6835 - val_accuracy: 0.8281 - lr: 0.0010\n",
            "Epoch 35/100\n",
            "7/7 [==============================] - 6s 783ms/step - loss: 1.0164 - accuracy: 0.6786 - val_loss: 0.8330 - val_accuracy: 0.8438 - lr: 0.0010\n",
            "Epoch 36/100\n",
            "7/7 [==============================] - 6s 891ms/step - loss: 0.9288 - accuracy: 0.7366 - val_loss: 0.8090 - val_accuracy: 0.7656 - lr: 0.0010\n",
            "Epoch 37/100\n",
            "7/7 [==============================] - 5s 712ms/step - loss: 0.9527 - accuracy: 0.7101 - val_loss: 0.7162 - val_accuracy: 0.7812 - lr: 0.0010\n",
            "Epoch 38/100\n",
            "7/7 [==============================] - 5s 706ms/step - loss: 0.8872 - accuracy: 0.7874 - val_loss: 0.7962 - val_accuracy: 0.7969 - lr: 0.0010\n",
            "Epoch 39/100\n",
            "7/7 [==============================] - 6s 904ms/step - loss: 0.7934 - accuracy: 0.8214 - val_loss: 0.8057 - val_accuracy: 0.7969 - lr: 0.0010\n",
            "Epoch 40/100\n",
            "7/7 [==============================] - 6s 848ms/step - loss: 0.9848 - accuracy: 0.7246 - val_loss: 0.7807 - val_accuracy: 0.8125 - lr: 0.0010\n",
            "Epoch 41/100\n",
            "7/7 [==============================] - 6s 766ms/step - loss: 0.9993 - accuracy: 0.6964 - val_loss: 0.7188 - val_accuracy: 0.8281 - lr: 0.0010\n",
            "Epoch 42/100\n",
            "7/7 [==============================] - 6s 841ms/step - loss: 0.8970 - accuracy: 0.7681 - val_loss: 0.7309 - val_accuracy: 0.7812 - lr: 0.0010\n",
            "Epoch 43/100\n",
            "7/7 [==============================] - 7s 936ms/step - loss: 0.9082 - accuracy: 0.7500 - val_loss: 0.6014 - val_accuracy: 0.8438 - lr: 0.0010\n",
            "Epoch 44/100\n",
            "7/7 [==============================] - 6s 790ms/step - loss: 0.8448 - accuracy: 0.7768 - val_loss: 0.7869 - val_accuracy: 0.7969 - lr: 0.0010\n",
            "Epoch 45/100\n",
            "7/7 [==============================] - 6s 832ms/step - loss: 0.9364 - accuracy: 0.7536 - val_loss: 1.0117 - val_accuracy: 0.7188 - lr: 0.0010\n",
            "Epoch 46/100\n",
            "7/7 [==============================] - 7s 926ms/step - loss: 0.7693 - accuracy: 0.8036 - val_loss: 0.6739 - val_accuracy: 0.8281 - lr: 0.0010\n",
            "Epoch 47/100\n",
            "7/7 [==============================] - 5s 732ms/step - loss: 0.7065 - accuracy: 0.8309 - val_loss: 0.6443 - val_accuracy: 0.8594 - lr: 0.0010\n",
            "Epoch 48/100\n",
            "7/7 [==============================] - 6s 896ms/step - loss: 0.6908 - accuracy: 0.8705 - val_loss: 0.5824 - val_accuracy: 0.8438 - lr: 0.0010\n",
            "Epoch 49/100\n",
            "7/7 [==============================] - 6s 827ms/step - loss: 0.6767 - accuracy: 0.8482 - val_loss: 0.4225 - val_accuracy: 0.9375 - lr: 0.0010\n",
            "Epoch 50/100\n",
            "7/7 [==============================] - 6s 775ms/step - loss: 0.7488 - accuracy: 0.8125 - val_loss: 0.6418 - val_accuracy: 0.8281 - lr: 0.0010\n",
            "Epoch 51/100\n",
            "7/7 [==============================] - 6s 907ms/step - loss: 0.6552 - accuracy: 0.8348 - val_loss: 0.5480 - val_accuracy: 0.8750 - lr: 0.0010\n",
            "Epoch 52/100\n",
            "7/7 [==============================] - 6s 830ms/step - loss: 0.7445 - accuracy: 0.8019 - val_loss: 0.5269 - val_accuracy: 0.9062 - lr: 0.0010\n",
            "Epoch 53/100\n",
            "7/7 [==============================] - 6s 764ms/step - loss: 0.7589 - accuracy: 0.8080 - val_loss: 0.7833 - val_accuracy: 0.7656 - lr: 0.0010\n",
            "Epoch 54/100\n",
            "7/7 [==============================] - 6s 938ms/step - loss: 0.7003 - accuracy: 0.8164 - val_loss: 0.6039 - val_accuracy: 0.8594 - lr: 0.0010\n",
            "Epoch 55/100\n",
            "7/7 [==============================] - 6s 751ms/step - loss: 0.6484 - accuracy: 0.8454 - val_loss: 0.6314 - val_accuracy: 0.8125 - lr: 0.0010\n",
            "Epoch 56/100\n",
            "7/7 [==============================] - 6s 728ms/step - loss: 0.6305 - accuracy: 0.8454 - val_loss: 0.3751 - val_accuracy: 0.9531 - lr: 0.0010\n",
            "Epoch 57/100\n",
            "7/7 [==============================] - 6s 888ms/step - loss: 0.5469 - accuracy: 0.8795 - val_loss: 0.4500 - val_accuracy: 0.8906 - lr: 0.0010\n",
            "Epoch 58/100\n",
            "7/7 [==============================] - 5s 722ms/step - loss: 0.6463 - accuracy: 0.8744 - val_loss: 0.4857 - val_accuracy: 0.8750 - lr: 0.0010\n",
            "Epoch 59/100\n",
            "7/7 [==============================] - 6s 898ms/step - loss: 0.6463 - accuracy: 0.8482 - val_loss: 0.4371 - val_accuracy: 0.8438 - lr: 0.0010\n",
            "Epoch 60/100\n",
            "7/7 [==============================] - 6s 894ms/step - loss: 0.5153 - accuracy: 0.8839 - val_loss: 0.5040 - val_accuracy: 0.9062 - lr: 0.0010\n",
            "Epoch 61/100\n",
            "7/7 [==============================] - 6s 763ms/step - loss: 0.5530 - accuracy: 0.8750 - val_loss: 0.3293 - val_accuracy: 0.9219 - lr: 0.0010\n",
            "Epoch 62/100\n",
            "7/7 [==============================] - 6s 895ms/step - loss: 0.5394 - accuracy: 0.8884 - val_loss: 0.3961 - val_accuracy: 0.9375 - lr: 0.0010\n",
            "Epoch 63/100\n",
            "7/7 [==============================] - 5s 727ms/step - loss: 0.5116 - accuracy: 0.8889 - val_loss: 0.4903 - val_accuracy: 0.9219 - lr: 0.0010\n",
            "Epoch 64/100\n",
            "7/7 [==============================] - 6s 761ms/step - loss: 0.5621 - accuracy: 0.8795 - val_loss: 0.4096 - val_accuracy: 0.9219 - lr: 0.0010\n",
            "Epoch 65/100\n",
            "7/7 [==============================] - 6s 780ms/step - loss: 0.5884 - accuracy: 0.8795 - val_loss: 0.3956 - val_accuracy: 0.9375 - lr: 0.0010\n",
            "Epoch 66/100\n",
            "7/7 [==============================] - 6s 880ms/step - loss: 0.5437 - accuracy: 0.8929 - val_loss: 0.4402 - val_accuracy: 0.9375 - lr: 0.0010\n",
            "Epoch 67/100\n",
            "7/7 [==============================] - 7s 931ms/step - loss: 0.4819 - accuracy: 0.9196 - val_loss: 0.4059 - val_accuracy: 0.9375 - lr: 0.0010\n",
            "Epoch 68/100\n",
            "7/7 [==============================] - 6s 787ms/step - loss: 0.5662 - accuracy: 0.8973 - val_loss: 0.3813 - val_accuracy: 0.9219 - lr: 0.0010\n",
            "Epoch 69/100\n",
            "7/7 [==============================] - 6s 778ms/step - loss: 0.5034 - accuracy: 0.8973 - val_loss: 0.5076 - val_accuracy: 0.8594 - lr: 0.0010\n",
            "Epoch 70/100\n",
            "7/7 [==============================] - 6s 901ms/step - loss: 0.4789 - accuracy: 0.8929 - val_loss: 0.3864 - val_accuracy: 0.9688 - lr: 0.0010\n",
            "Epoch 71/100\n",
            "7/7 [==============================] - 5s 725ms/step - loss: 0.5619 - accuracy: 0.8599 - val_loss: 0.5026 - val_accuracy: 0.9062 - lr: 0.0010\n",
            "Epoch 72/100\n",
            "7/7 [==============================] - 5s 715ms/step - loss: 0.5622 - accuracy: 0.8599 - val_loss: 0.3286 - val_accuracy: 0.9062 - lr: 0.0010\n",
            "Epoch 73/100\n",
            "7/7 [==============================] - 6s 772ms/step - loss: 0.4775 - accuracy: 0.9196 - val_loss: 0.3789 - val_accuracy: 0.9219 - lr: 0.0010\n",
            "Epoch 74/100\n",
            "7/7 [==============================] - 6s 777ms/step - loss: 0.4349 - accuracy: 0.8973 - val_loss: 0.3256 - val_accuracy: 0.9531 - lr: 0.0010\n",
            "Epoch 75/100\n",
            "7/7 [==============================] - 6s 766ms/step - loss: 0.4848 - accuracy: 0.8839 - val_loss: 0.3636 - val_accuracy: 0.9219 - lr: 0.0010\n",
            "Epoch 76/100\n",
            "7/7 [==============================] - 6s 896ms/step - loss: 0.4642 - accuracy: 0.8839 - val_loss: 0.4725 - val_accuracy: 0.9375 - lr: 0.0010\n",
            "Epoch 77/100\n",
            "7/7 [==============================] - 5s 726ms/step - loss: 0.5994 - accuracy: 0.8502 - val_loss: 0.4949 - val_accuracy: 0.8594 - lr: 0.0010\n",
            "Epoch 78/100\n",
            "7/7 [==============================] - 6s 760ms/step - loss: 0.5352 - accuracy: 0.8795 - val_loss: 0.4474 - val_accuracy: 0.8750 - lr: 0.0010\n",
            "Epoch 79/100\n",
            "7/7 [==============================] - 6s 782ms/step - loss: 0.4951 - accuracy: 0.8839 - val_loss: 0.3374 - val_accuracy: 0.9375 - lr: 0.0010\n",
            "Epoch 80/100\n",
            "7/7 [==============================] - 6s 811ms/step - loss: 0.5747 - accuracy: 0.8661 - val_loss: 0.3865 - val_accuracy: 0.9531 - lr: 0.0010\n",
            "Epoch 81/100\n",
            "7/7 [==============================] - 6s 880ms/step - loss: 0.4945 - accuracy: 0.8839 - val_loss: 0.3581 - val_accuracy: 0.9062 - lr: 0.0010\n",
            "Epoch 82/100\n",
            "7/7 [==============================] - 6s 775ms/step - loss: 0.5591 - accuracy: 0.8438 - val_loss: 0.4112 - val_accuracy: 0.8906 - lr: 0.0010\n",
            "Epoch 83/100\n",
            "7/7 [==============================] - 5s 735ms/step - loss: 0.5262 - accuracy: 0.8454 - val_loss: 0.3524 - val_accuracy: 0.8906 - lr: 0.0010\n",
            "Epoch 84/100\n",
            "7/7 [==============================] - 6s 902ms/step - loss: 0.4415 - accuracy: 0.9062 - val_loss: 0.1919 - val_accuracy: 0.9844 - lr: 0.0010\n",
            "Epoch 85/100\n",
            "7/7 [==============================] - 6s 763ms/step - loss: 0.3870 - accuracy: 0.9107 - val_loss: 0.3071 - val_accuracy: 0.9219 - lr: 0.0010\n",
            "Epoch 86/100\n",
            "7/7 [==============================] - 6s 778ms/step - loss: 0.4213 - accuracy: 0.9062 - val_loss: 0.2084 - val_accuracy: 0.9844 - lr: 0.0010\n",
            "Epoch 87/100\n",
            "7/7 [==============================] - 6s 845ms/step - loss: 0.3397 - accuracy: 0.9517 - val_loss: 0.3095 - val_accuracy: 0.9688 - lr: 0.0010\n",
            "Epoch 88/100\n",
            "7/7 [==============================] - 6s 785ms/step - loss: 0.4123 - accuracy: 0.9330 - val_loss: 0.2751 - val_accuracy: 0.9531 - lr: 0.0010\n",
            "Epoch 89/100\n",
            "7/7 [==============================] - 6s 890ms/step - loss: 0.4052 - accuracy: 0.9179 - val_loss: 0.3517 - val_accuracy: 0.9688 - lr: 0.0010\n",
            "Epoch 90/100\n",
            "7/7 [==============================] - 6s 772ms/step - loss: 0.4150 - accuracy: 0.9286 - val_loss: 0.2445 - val_accuracy: 0.9844 - lr: 0.0010\n",
            "Epoch 91/100\n",
            "7/7 [==============================] - 7s 856ms/step - loss: 0.3678 - accuracy: 0.9286 - val_loss: 0.2439 - val_accuracy: 1.0000 - lr: 0.0010\n",
            "Epoch 92/100\n",
            "7/7 [==============================] - 6s 785ms/step - loss: 0.4115 - accuracy: 0.8937 - val_loss: 0.3203 - val_accuracy: 0.9688 - lr: 0.0010\n",
            "Epoch 93/100\n",
            "7/7 [==============================] - 6s 778ms/step - loss: 0.4087 - accuracy: 0.9196 - val_loss: 0.3230 - val_accuracy: 0.9375 - lr: 0.0010\n",
            "Epoch 94/100\n",
            "7/7 [==============================] - 6s 820ms/step - loss: 0.4192 - accuracy: 0.9107 - val_loss: 0.2204 - val_accuracy: 0.9688 - lr: 0.0010\n",
            "Epoch 95/100\n",
            "7/7 [==============================] - 6s 874ms/step - loss: 0.3631 - accuracy: 0.9464 - val_loss: 0.2780 - val_accuracy: 0.9375 - lr: 0.0010\n",
            "Epoch 96/100\n",
            "7/7 [==============================] - 5s 715ms/step - loss: 0.4125 - accuracy: 0.8937 - val_loss: 0.3288 - val_accuracy: 0.9062 - lr: 0.0010\n",
            "Epoch 97/100\n",
            "7/7 [==============================] - 6s 824ms/step - loss: 0.3681 - accuracy: 0.9464 - val_loss: 0.2546 - val_accuracy: 0.9531 - lr: 0.0010\n",
            "Epoch 98/100\n",
            "7/7 [==============================] - 6s 786ms/step - loss: 0.3495 - accuracy: 0.9330 - val_loss: 0.2693 - val_accuracy: 0.9375 - lr: 0.0010\n",
            "Epoch 99/100\n",
            "7/7 [==============================] - 6s 779ms/step - loss: 0.3337 - accuracy: 0.9286 - val_loss: 0.2534 - val_accuracy: 0.9688 - lr: 0.0010\n",
            "Epoch 100/100\n",
            "7/7 [==============================] - 5s 722ms/step - loss: 0.3565 - accuracy: 0.9275 - val_loss: 0.2280 - val_accuracy: 0.9844 - lr: 0.0010\n"
          ]
        }
      ],
      "source": [
        "reduce_lr = ReduceLROnPlateau(monitor='val_loss', factor=0.2, patience=5, min_lr=0.001)\n",
        "r = model.fit_generator(\n",
        "    training_set,\n",
        "    validation_data = test_set,\n",
        "    epochs = 100,\n",
        "    steps_per_epoch = len(training_set)//3,\n",
        "    validation_steps = len(test_set)//3,\n",
        "    callbacks=[reduce_lr])\n"
      ]
    },
    {
      "cell_type": "markdown",
      "metadata": {
        "id": "n_IEyIKwKHsK"
      },
      "source": [
        "*Accuracy of the Model after 100 epochs*"
      ]
    },
    {
      "cell_type": "markdown",
      "metadata": {
        "id": "0XOC6hQUHUww"
      },
      "source": [
        "## Save the Model"
      ]
    },
    {
      "cell_type": "code",
      "execution_count": 21,
      "metadata": {
        "colab": {
          "base_uri": "https://localhost:8080/"
        },
        "id": "G0lxM2I3FmIO",
        "outputId": "4ca0ccd0-4baa-4046-b657-57538279ac15"
      },
      "outputs": [
        {
          "name": "stderr",
          "output_type": "stream",
          "text": [
            "/usr/local/lib/python3.10/dist-packages/keras/src/engine/training.py:3079: UserWarning: You are saving your model as an HDF5 file via `model.save()`. This file format is considered legacy. We recommend using instead the native Keras format, e.g. `model.save('my_model.keras')`.\n",
            "  saving_api.save_model(\n"
          ]
        }
      ],
      "source": [
        "model.save('vgg-16-nail-disease.h5')"
      ]
    },
    {
      "cell_type": "markdown",
      "metadata": {
        "id": "hhtFUPB4KTFs"
      },
      "source": [
        "# Testing"
      ]
    },
    {
      "cell_type": "markdown",
      "metadata": {
        "id": "gYfRtgX9KsMn"
      },
      "source": [
        "## Test the model"
      ]
    },
    {
      "cell_type": "code",
      "execution_count": 22,
      "metadata": {
        "id": "mFcbnGZAKUUf"
      },
      "outputs": [],
      "source": [
        "from tensorflow.keras.models import load_model\n",
        "from tensorflow.keras.preprocessing import image\n",
        "from tensorflow.keras.applications.inception_v3 import preprocess_input\n",
        "import numpy as np"
      ]
    },
    {
      "cell_type": "code",
      "execution_count": 23,
      "metadata": {
        "id": "aM-vki2VKpJS"
      },
      "outputs": [],
      "source": [
        "model = load_model('vgg-16-nail-disease.h5')"
      ]
    },
    {
      "cell_type": "markdown",
      "metadata": {
        "id": "GVu929Lzccbg"
      },
      "source": [
        "### Test 1"
      ]
    },
    {
      "cell_type": "code",
      "execution_count": 24,
      "metadata": {
        "colab": {
          "base_uri": "https://localhost:8080/",
          "height": 241
        },
        "id": "Ml20goYGKzxx",
        "outputId": "5c82996a-ecdc-4f2b-ecda-40ac48632767"
      },
      "outputs": [
        {
          "data": {
            "image/png": "[encoded data removed]",
            "text/plain": [
              "<PIL.Image.Image image mode=RGB size=224x224>"
            ]
          },
          "execution_count": 24,
          "metadata": {},
          "output_type": "execute_result"
        }
      ],
      "source": [
        "img1 = image.load_img(r'/content/Datasets/test/eczema/22.PNG',target_size=(224,224))\n",
        "img1"
      ]
    },
    {
      "cell_type": "code",
      "execution_count": 25,
      "metadata": {
        "colab": {
          "base_uri": "https://localhost:8080/"
        },
        "id": "Pcl7BOddK_KA",
        "outputId": "ac99455c-2f2b-44c7-9dc3-293a2aaac234"
      },
      "outputs": [
        {
          "data": {
            "text/plain": [
              "array([[[[165., 102.,  57.],\n",
              "         [174., 111.,  67.],\n",
              "         [178., 115.,  71.],\n",
              "         ...,\n",
              "         [154.,  98.,  55.],\n",
              "         [153., 100.,  56.],\n",
              "         [154., 101.,  57.]],\n",
              "\n",
              "        [[168., 106.,  60.],\n",
              "         [178., 115.,  71.],\n",
              "         [180., 117.,  73.],\n",
              "         ...,\n",
              "         [153.,  97.,  54.],\n",
              "         [152.,  99.,  55.],\n",
              "         [153., 100.,  56.]],\n",
              "\n",
              "        [[171., 109.,  63.],\n",
              "         [180., 117.,  73.],\n",
              "         [181., 118.,  74.],\n",
              "         ...,\n",
              "         [152.,  96.,  53.],\n",
              "         [151.,  98.,  54.],\n",
              "         [152.,  99.,  55.]],\n",
              "\n",
              "        ...,\n",
              "\n",
              "        [[ 20.,  17.,  12.],\n",
              "         [ 25.,  22.,  17.],\n",
              "         [ 27.,  24.,  19.],\n",
              "         ...,\n",
              "         [ 13.,  14.,   8.],\n",
              "         [ 16.,  17.,  11.],\n",
              "         [ 23.,  24.,  18.]],\n",
              "\n",
              "        [[ 20.,  17.,  12.],\n",
              "         [ 24.,  21.,  16.],\n",
              "         [ 25.,  22.,  17.],\n",
              "         ...,\n",
              "         [ 12.,  13.,   7.],\n",
              "         [ 15.,  16.,  10.],\n",
              "         [ 23.,  24.,  18.]],\n",
              "\n",
              "        [[ 21.,  18.,  13.],\n",
              "         [ 22.,  19.,  14.],\n",
              "         [ 23.,  20.,  15.],\n",
              "         ...,\n",
              "         [ 13.,  14.,   8.],\n",
              "         [ 15.,  16.,  10.],\n",
              "         [ 20.,  21.,  15.]]]], dtype=float32)"
            ]
          },
          "execution_count": 25,
          "metadata": {},
          "output_type": "execute_result"
        }
      ],
      "source": [
        "x = image.img_to_array(img1)\n",
        "x = np.expand_dims(x,axis=0)\n",
        "x"
      ]
    },
    {
      "cell_type": "code",
      "execution_count": 26,
      "metadata": {
        "colab": {
          "base_uri": "https://localhost:8080/"
        },
        "id": "CYV8qwq4Lbri",
        "outputId": "a2f2b4f6-9fce-4285-fbe3-f62f142b72c7"
      },
      "outputs": [
        {
          "name": "stdout",
          "output_type": "stream",
          "text": [
            "1/1 [==============================] - 1s 779ms/step\n"
          ]
        },
        {
          "data": {
            "text/plain": [
              "array([[0., 0., 0., 0., 0., 0., 1., 0., 0., 0., 0., 0., 0., 0., 0., 0.,\n",
              "        0.]], dtype=float32)"
            ]
          },
          "execution_count": 26,
          "metadata": {},
          "output_type": "execute_result"
        }
      ],
      "source": [
        "model.predict(x)"
      ]
    },
    {
      "cell_type": "code",
      "execution_count": 27,
      "metadata": {
        "colab": {
          "base_uri": "https://localhost:8080/",
          "height": 54
        },
        "id": "vXeF2xbMLeYs",
        "outputId": "6882800d-88c9-46b5-8703-b2d94833912e"
      },
      "outputs": [
        {
          "name": "stdout",
          "output_type": "stream",
          "text": [
            "1/1 [==============================] - 0s 33ms/step\n"
          ]
        },
        {
          "data": {
            "application/vnd.google.colaboratory.intrinsic+json": {
              "type": "string"
            },
            "text/plain": [
              "'eczema'"
            ]
          },
          "execution_count": 27,
          "metadata": {},
          "output_type": "execute_result"
        }
      ],
      "source": [
        "output = np.argmax(model.predict(x),axis=1)\n",
        "index = ['Darier_s disease', 'Muehrck-e_s lines', 'aloperia areata', 'beau_s lines', 'bluish nail', 'clubbing',\n",
        "         'eczema', 'half and half nailes (Lindsay_s nails)', 'koilonychia', 'leukonychia', 'onycholycis', 'pale nail',\n",
        "         'red lunula', 'splinter hemmorrage', 'terr_s nail', 'white nail', 'yellow nail']\n",
        "\n",
        "result = str(index[output[0]])\n",
        "result"
      ]
    },
    {
      "cell_type": "markdown",
      "metadata": {
        "id": "RpkmJYgGcgae"
      },
      "source": [
        "### Test 2"
      ]
    },
    {
      "cell_type": "code",
      "execution_count": 28,
      "metadata": {
        "colab": {
          "base_uri": "https://localhost:8080/",
          "height": 241
        },
        "id": "5iNSQK4Ccf9R",
        "outputId": "253af83e-3b99-4a4a-98d6-6b9f2c71facc"
      },
      "outputs": [
        {
          "data": {
            "image/png": "[encoded data removed]",
            "text/plain": [
              "<PIL.Image.Image image mode=RGB size=224x224>"
            ]
          },
          "execution_count": 28,
          "metadata": {},
          "output_type": "execute_result"
        }
      ],
      "source": [
        "img2 = image.load_img(r'/content/Datasets/test/clubbing/22.PNG',target_size=(224,224))\n",
        "img2"
      ]
    },
    {
      "cell_type": "code",
      "execution_count": 29,
      "metadata": {
        "id": "uqQGK9tqdGM_"
      },
      "outputs": [],
      "source": [
        "y = image.img_to_array(img2)\n",
        "y = np.expand_dims(y,axis=0)"
      ]
    },
    {
      "cell_type": "code",
      "execution_count": 30,
      "metadata": {
        "colab": {
          "base_uri": "https://localhost:8080/"
        },
        "id": "oZ9i-ANGdLSU",
        "outputId": "029fd29a-3069-4e4a-f0bd-aec4a5727b17"
      },
      "outputs": [
        {
          "name": "stdout",
          "output_type": "stream",
          "text": [
            "1/1 [==============================] - 0s 22ms/step\n"
          ]
        },
        {
          "data": {
            "text/plain": [
              "array([[0., 0., 0., 0., 0., 1., 0., 0., 0., 0., 0., 0., 0., 0., 0., 0.,\n",
              "        0.]], dtype=float32)"
            ]
          },
          "execution_count": 30,
          "metadata": {},
          "output_type": "execute_result"
        }
      ],
      "source": [
        "model.predict(y)"
      ]
    },
    {
      "cell_type": "code",
      "execution_count": 31,
      "metadata": {
        "colab": {
          "base_uri": "https://localhost:8080/",
          "height": 54
        },
        "id": "Au2WA36ZdNJW",
        "outputId": "e4702abc-afce-4da2-907f-7421d580584c"
      },
      "outputs": [
        {
          "name": "stdout",
          "output_type": "stream",
          "text": [
            "1/1 [==============================] - 0s 19ms/step\n"
          ]
        },
        {
          "data": {
            "application/vnd.google.colaboratory.intrinsic+json": {
              "type": "string"
            },
            "text/plain": [
              "'clubbing'"
            ]
          },
          "execution_count": 31,
          "metadata": {},
          "output_type": "execute_result"
        }
      ],
      "source": [
        "output = np.argmax(model.predict(y),axis=1)\n",
        "index = ['Darier_s disease', 'Muehrck-e_s lines', 'aloperia areata', 'beau_s lines', 'bluish nail', 'clubbing',\n",
        "         'eczema', 'half and half nailes (Lindsay_s nails)', 'koilonychia', 'leukonychia', 'onycholycis', 'pale nail',\n",
        "         'red lunula', 'splinter hemmorrage', 'terr_s nail', 'white nail', 'yellow nail']\n",
        "\n",
        "result = str(index[output[0]])\n",
        "result"
      ]
    },
    {
      "cell_type": "markdown",
      "metadata": {
        "id": "1CGes7_sdel6"
      },
      "source": [
        "### Test 3"
      ]
    },
    {
      "cell_type": "code",
      "execution_count": 32,
      "metadata": {
        "colab": {
          "base_uri": "https://localhost:8080/",
          "height": 241
        },
        "id": "Bev_qoF4df33",
        "outputId": "689b680d-0af0-4552-e330-9d77903a622c"
      },
      "outputs": [
        {
          "data": {
            "image/png": "[encoded data removed]",
            "text/plain": [
              "<PIL.Image.Image image mode=RGB size=224x224>"
            ]
          },
          "execution_count": 32,
          "metadata": {},
          "output_type": "execute_result"
        }
      ],
      "source": [
        "img3 = image.load_img(r'/content/Datasets/test/splinter hemmorrage/r.PNG',target_size=(224,224))\n",
        "img3"
      ]
    },
    {
      "cell_type": "code",
      "execution_count": 33,
      "metadata": {
        "id": "xO9_poVfd_CQ"
      },
      "outputs": [],
      "source": [
        "z = image.img_to_array(img3)\n",
        "z = np.expand_dims(z,axis=0)"
      ]
    },
    {
      "cell_type": "code",
      "execution_count": 34,
      "metadata": {
        "colab": {
          "base_uri": "https://localhost:8080/"
        },
        "id": "FJnCqyIgeDep",
        "outputId": "61722d0e-e928-4bbd-e2f6-2dcad1118185"
      },
      "outputs": [
        {
          "name": "stdout",
          "output_type": "stream",
          "text": [
            "1/1 [==============================] - 0s 22ms/step\n"
          ]
        },
        {
          "data": {
            "text/plain": [
              "array([[0.0000000e+00, 0.0000000e+00, 0.0000000e+00, 0.0000000e+00,\n",
              "        0.0000000e+00, 0.0000000e+00, 1.5786439e-37, 0.0000000e+00,\n",
              "        4.4943101e-36, 0.0000000e+00, 0.0000000e+00, 0.0000000e+00,\n",
              "        0.0000000e+00, 1.0000000e+00, 0.0000000e+00, 0.0000000e+00,\n",
              "        0.0000000e+00]], dtype=float32)"
            ]
          },
          "execution_count": 34,
          "metadata": {},
          "output_type": "execute_result"
        }
      ],
      "source": [
        "model.predict(z)"
      ]
    },
    {
      "cell_type": "code",
      "execution_count": 35,
      "metadata": {
        "colab": {
          "base_uri": "https://localhost:8080/",
          "height": 54
        },
        "id": "xbZql7nqeGM3",
        "outputId": "60eb3076-6a67-4e04-8ab2-6da784eac031"
      },
      "outputs": [
        {
          "name": "stdout",
          "output_type": "stream",
          "text": [
            "1/1 [==============================] - 0s 20ms/step\n"
          ]
        },
        {
          "data": {
            "application/vnd.google.colaboratory.intrinsic+json": {
              "type": "string"
            },
            "text/plain": [
              "'splinter hemmorrage'"
            ]
          },
          "execution_count": 35,
          "metadata": {},
          "output_type": "execute_result"
        }
      ],
      "source": [
        "output = np.argmax(model.predict(z),axis=1)\n",
        "index = ['Darier_s disease', 'Muehrck-e_s lines', 'aloperia areata', 'beau_s lines', 'bluish nail', 'clubbing',\n",
        "         'eczema', 'half and half nailes (Lindsay_s nails)', 'koilonychia', 'leukonychia', 'onycholycis', 'pale nail',\n",
        "         'red lunula', 'splinter hemmorrage', 'terr_s nail', 'white nail', 'yellow nail']\n",
        "\n",
        "result = str(index[output[0]])\n",
        "result"
      ]
    }
  ],
  "metadata": {
    "accelerator": "GPU",
    "colab": {
      "gpuType": "T4",
      "provenance": []
    },
    "kernelspec": {
      "display_name": "Python 3",
      "name": "python3"
    },
    "language_info": {
      "codemirror_mode": {
        "name": "ipython",
        "version": 3
      },
      "file_extension": ".py",
      "mimetype": "text/x-python",
      "name": "python",
      "nbconvert_exporter": "python",
      "pygments_lexer": "ipython3",
      "version": "3.11.4"
    }
  },
  "nbformat": 4,
  "nbformat_minor": 0
}
